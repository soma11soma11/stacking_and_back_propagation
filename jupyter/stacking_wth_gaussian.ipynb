{
 "cells": [
  {
   "cell_type": "markdown",
   "metadata": {
    "collapsed": true
   },
   "source": [
    "### Import and Organise the data####"
   ]
  },
  {
   "cell_type": "code",
   "execution_count": 10,
   "metadata": {
    "collapsed": true
   },
   "outputs": [],
   "source": [
    "from sklearn.datasets import fetch_mldata\n",
    "import numpy as np\n",
    "from sklearn.utils import shuffle\n",
    "mnist = fetch_mldata('MNIST original', data_home=\".\")\n",
    "mnist.data, mnist.target = shuffle(mnist.data, mnist.target)\n",
    "X = mnist.data\n",
    "y_float = mnist.target\n",
    "y_int = y_float.astype(np.int64)\n",
    "y = np.eye(10)[y_int]"
   ]
  },
  {
   "cell_type": "code",
   "execution_count": 11,
   "metadata": {},
   "outputs": [],
   "source": [
    "from sklearn.model_selection import train_test_split\n",
    "X_train, X_test, y_train, y_test = train_test_split(X, y, test_size=0.25, random_state=42)\n",
    "s_train = np.ones(X_train.shape[0])\n",
    "X_train = np.hstack((X_train, s_train.reshape(len(s_train),1)))\n",
    "s_test = np.ones(X_test.shape[0])\n",
    "X_test = np.hstack((X_test, s_test.reshape(len(s_test),1)))"
   ]
  },
  {
   "cell_type": "markdown",
   "metadata": {
    "collapsed": true
   },
   "source": [
    "## define useful functions "
   ]
  },
  {
   "cell_type": "code",
   "execution_count": 12,
   "metadata": {
    "collapsed": true
   },
   "outputs": [],
   "source": [
    "def sigmoid(a):\n",
    "    return 1.0 / (1.0 + np.exp(-a))\n"
   ]
  },
  {
   "cell_type": "markdown",
   "metadata": {},
   "source": [
    "### gradient descent"
   ]
  },
  {
   "cell_type": "code",
   "execution_count": 13,
   "metadata": {},
   "outputs": [],
   "source": [
    "def gradient(x, y, w1, w2, w3, theta1, theta2,theta3):\n",
    "    z1 = np.matmul(x, w1)\n",
    "    z2 = np.matmul(x, w2)\n",
    "    z3 = np.matmul(x, w3)\n",
    "    zf = np.matmul(z1, theta1) + np.matmul(z2, theta2)+np.matmul(z3, theta3)\n",
    "    sig = (sigmoid(zf)-y) # [N, 10]\n",
    "    gradient_c_theta1 = np.matmul(np.transpose(z1), sig) / N #[S1, N] [N, 10]\n",
    "    gradient_c_theta2 = np.matmul(np.transpose(z2), sig) / N #[S2, N] [N, 10]\n",
    "    gradient_c_theta3 = np.matmul(np.transpose(z3), sig) / N #[S3,N] [N,10]\n",
    "    gradient_c_z1 = np.matmul(theta1, np.transpose(sig))  / N #[S1, 10] [N, 10]\n",
    "    gradient_c_z2 = np.matmul(theta2, np.transpose(sig)) / N \n",
    "    gradient_c_z3 = np.matmul(theta3, np.transpose(sig)) / N\n",
    "    #gradient_z1_w1= np.tranpose(x).T[:,:,None]*np.transpose(np.multiply(sigmoid(z2), (1-sig(z2)))).T[:,None] #[N, S1, 780]\n",
    "    gradient_z1_w1 =x\n",
    "    gradient_c_w1 = np.matmul(np.transpose(x),np.transpose(gradient_c_z1))\n",
    "    gradient_z2_w2=np.ones((N,S2_logistic,785))\n",
    "    gradient_c_w2=np.ones((S2_logistic,785))\n",
    "    for i in range(S2_logistic):\n",
    "        siggy = np.multiply(sigmoid(z2),(1-sigmoid(z2))) ### [N,S2 ]\n",
    "        gradient_z2_w2[:,i,:] = x * (siggy[:,i].reshape(N,1))   ###[N,S2,785]\n",
    "    for i in range(S2_logistic):    \n",
    "        gradient_c_w2[i,:] =np.matmul(gradient_c_z1[i,:],gradient_z2_w2[:,i,:]) / N\n",
    "    gradient_z3_w3=np.ones((N,S3_Gauss,785))\n",
    "    gradient_c_w3=np.ones((S3_Gauss,785))\n",
    "    for i in range(S3_Gauss):\n",
    "        gradient_z3_w3[:,i,:] = np.multiply((beta*(x-w3[:,i])), np.exp( - beta*(np.linalg.norm(x-w3[:,i]))))   #[N, i ,785]\n",
    "    for i in range(S3_Gauss):\n",
    "        gradient_c_w3[i,:] =np.matmul(gradient_c_z3[i,:],gradient_z3_w3[:,i,:]) / N\n",
    "        \n",
    "    return zf, gradient_c_theta1, gradient_c_theta2, gradient_c_theta3, gradient_c_w1, gradient_c_w2, gradient_c_w3"
   ]
  },
  {
   "cell_type": "code",
   "execution_count": null,
   "metadata": {
    "scrolled": true
   },
   "outputs": [],
   "source": []
  },
  {
   "cell_type": "code",
   "execution_count": 14,
   "metadata": {},
   "outputs": [],
   "source": [
    "# z1 = linear_output_z1(X_train, int_w1)\n",
    "# z2 = logistic_output_z2(X_train, int_w2)\n",
    "# zf = logistic_output(X_train, z1, z2, int_theta1, int_theta2)"
   ]
  },
  {
   "cell_type": "code",
   "execution_count": 15,
   "metadata": {},
   "outputs": [],
   "source": [
    "def gradient_descent(x, y, int_w1, int_w2, int_w3, int_theta1, int_theta2, int_theta3, lowtrain, uptrain, iterations,N):\n",
    "\n",
    "    place_w1=int_w1\n",
    "    place_w2=int_w2\n",
    "    place_w3=int_w3\n",
    "    place_theta1=int_theta1\n",
    "    place_theta2=int_theta2\n",
    "    place_theta3=int_theta3\n",
    "\n",
    "    for i in range(iterations):\n",
    "        trainrate=np.random.uniform(lowtrain,uptrain,1)/np.cbrt(i+1) \n",
    "\n",
    "        zf, gradient_theta1, gradient_theta2, gradient_theta3, gradient_w1, gradient_w2, gradient_w3 = gradient(x, y, place_w1, place_w2, place_w3, place_theta1, place_theta2, place_theta3)\n",
    "        p = sigmoid(zf)\n",
    "            \n",
    "        place_w1 = place_w1 - (trainrate * gradient_w1) - (0.1/N)*place_w1 * trainrate\n",
    "        place_w2 = place_w2 - (trainrate * np.transpose(gradient_w2)) - (0.1/N)*place_w2 * trainrate\n",
    "        place_w3 = place_w3 - (trainrate * np.transpose(gradient_w3)) - (0.1/N)*place_w3 * trainrate\n",
    "\n",
    "        place_theta1 = place_theta1 - trainrate*gradient_theta1*0.1 - (0.1/N)*place_theta1 * trainrate \n",
    "        place_theta2 = place_theta2 - trainrate*gradient_theta2 - (0.1/N)*place_theta2 * trainrate\n",
    "        place_theta3 = place_theta3 - trainrate*gradient_theta3 - (0.1/N)*place_theta3 * trainrate\n",
    "\n",
    "    return  p, place_theta1, place_theta2, place_theta3, place_w1, place_w2, place_w3"
   ]
  },
  {
   "cell_type": "code",
   "execution_count": 16,
   "metadata": {
    "collapsed": true
   },
   "outputs": [],
   "source": [
    "def predict_accuracy(xtest, ytest, theta1, theta2, theta3, w1, w2, w3):\n",
    "    z1 = np.matmul(xtest, w1)\n",
    "    z2 = np.matmul(xtest, w2)\n",
    "    z3 = np.matmul(xtest, w3) \n",
    "    zf = np.matmul(z1, theta1) + np.matmul(z2, theta2) + np.matmul(z3, theta3)\n",
    "    p = sigmoid(zf)\n",
    "    prediction = np.argmax(p, axis=1)\n",
    "    answer = np.argmax(ytest, axis=1)\n",
    "    success_rate = answer == prediction\n",
    "    success_rate = success_rate*1\n",
    "    prediction_rate = sum(success_rate) / xtest.shape[0]\n",
    "    \n",
    "    return prediction_rate"
   ]
  },
  {
   "cell_type": "code",
   "execution_count": 17,
   "metadata": {},
   "outputs": [
    {
     "name": "stderr",
     "output_type": "stream",
     "text": [
      "/Library/Frameworks/Python.framework/Versions/3.6/lib/python3.6/site-packages/ipykernel_launcher.py:2: RuntimeWarning: overflow encountered in exp\n",
      "  \n"
     ]
    }
   ],
   "source": [
    "S1_linear = 3\n",
    "S2_logistic = 3\n",
    "S3_Gauss = 5\n",
    "N = 52500 # Batch size\n",
    "beta = 0.1\n",
    "\n",
    "int_w1, int_w2,int_w3 = np.random.uniform(-1,1,(X_train.shape[1],S1_linear)), np.random.uniform(-1,1,(X_train.shape[1], S2_logistic)), np.random.uniform(-1,1,(X_train.shape[1], S3_Gauss))\n",
    "int_theta1, int_theta2, int_theta3 = np.random.uniform(-1,1,(S1_linear,10)), np.random.uniform(-1,1,(S2_logistic,10)), np.random.uniform(-1,1,(S3_Gauss,10))\n",
    "result = gradient_descent(X_train, y_train, int_w1, int_w2, int_w3, int_theta1, int_theta2, int_theta3, 0.00001, 0.0001, 1,N)"
   ]
  },
  {
   "cell_type": "code",
   "execution_count": null,
   "metadata": {},
   "outputs": [],
   "source": []
  },
  {
   "cell_type": "code",
   "execution_count": null,
   "metadata": {
    "collapsed": true
   },
   "outputs": [],
   "source": []
  },
  {
   "cell_type": "code",
   "execution_count": null,
   "metadata": {
    "collapsed": true
   },
   "outputs": [],
   "source": []
  },
  {
   "cell_type": "code",
   "execution_count": null,
   "metadata": {
    "scrolled": true
   },
   "outputs": [
    {
     "name": "stderr",
     "output_type": "stream",
     "text": [
      "/Library/Frameworks/Python.framework/Versions/3.6/lib/python3.6/site-packages/ipykernel_launcher.py:2: RuntimeWarning: overflow encountered in exp\n",
      "  \n"
     ]
    },
    {
     "name": "stdout",
     "output_type": "stream",
     "text": [
      "0 0.422228571429\n",
      "1 0.425028571429\n",
      "2 0.4316\n",
      "3 0.436\n",
      "4 0.444685714286\n",
      "5 0.450114285714\n",
      "6 0.433885714286\n",
      "7 0.432857142857\n",
      "8 0.447257142857\n",
      "9 0.448457142857\n",
      "10 0.427257142857\n",
      "11 0.4568\n",
      "12 0.455314285714\n",
      "13 0.442285714286\n",
      "14 0.460742857143\n",
      "15 0.446228571429\n",
      "16 0.442114285714\n",
      "17 0.468914285714\n",
      "18 0.476228571429\n",
      "19 0.4704\n",
      "20 0.452857142857\n",
      "21 0.4676\n",
      "22 0.476171428571\n"
     ]
    }
   ],
   "source": [
    "for i in range(200):\n",
    "    X_train, y_train = shuffle(X_train, y_train)\n",
    "    X_train_mini, y_train_mini = X_train[0:200], y_train[0:200]\n",
    "    N = X_train_mini.shape[0]\n",
    "    w1 = result[4]\n",
    "    w2 = result[5]\n",
    "    w3 = result[6]\n",
    "    theta1 = result[1]\n",
    "    theta2 = result[2]\n",
    "    theta3 = result[3]\n",
    "\n",
    "    result = gradient_descent(X_train_mini, y_train_mini, w1, w2, w3, theta1, theta2, theta3, 0.0001, 0.0005, 5,N)\n",
    "    output = predict_accuracy(X_test, y_test, theta1, theta2, theta3, w1, w2, w3)\n",
    "    print(i, output)"
   ]
  },
  {
   "cell_type": "code",
   "execution_count": null,
   "metadata": {
    "collapsed": true
   },
   "outputs": [],
   "source": []
  },
  {
   "cell_type": "code",
   "execution_count": null,
   "metadata": {
    "collapsed": true
   },
   "outputs": [],
   "source": []
  },
  {
   "cell_type": "code",
   "execution_count": null,
   "metadata": {
    "collapsed": true
   },
   "outputs": [],
   "source": []
  },
  {
   "cell_type": "code",
   "execution_count": null,
   "metadata": {
    "collapsed": true
   },
   "outputs": [],
   "source": []
  },
  {
   "cell_type": "code",
   "execution_count": null,
   "metadata": {
    "collapsed": true
   },
   "outputs": [],
   "source": []
  },
  {
   "cell_type": "code",
   "execution_count": null,
   "metadata": {
    "collapsed": true
   },
   "outputs": [],
   "source": []
  },
  {
   "cell_type": "code",
   "execution_count": null,
   "metadata": {
    "collapsed": true
   },
   "outputs": [],
   "source": []
  },
  {
   "cell_type": "code",
   "execution_count": null,
   "metadata": {
    "collapsed": true
   },
   "outputs": [],
   "source": []
  }
 ],
 "metadata": {
  "kernelspec": {
   "display_name": "Python 3",
   "language": "python",
   "name": "python3"
  },
  "language_info": {
   "codemirror_mode": {
    "name": "ipython",
    "version": 3
   },
   "file_extension": ".py",
   "mimetype": "text/x-python",
   "name": "python",
   "nbconvert_exporter": "python",
   "pygments_lexer": "ipython3",
   "version": "3.6.1"
  }
 },
 "nbformat": 4,
 "nbformat_minor": 2
}
