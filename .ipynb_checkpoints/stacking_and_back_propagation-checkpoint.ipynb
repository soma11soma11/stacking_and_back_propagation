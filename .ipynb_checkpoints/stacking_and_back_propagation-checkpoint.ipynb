{
 "cells": [
  {
   "cell_type": "markdown",
   "metadata": {},
   "source": [
    "# Stacking and back propagation"
   ]
  },
  {
   "cell_type": "markdown",
   "metadata": {},
   "source": [
    "### import data"
   ]
  },
  {
   "cell_type": "code",
   "execution_count": 1,
   "metadata": {
    "collapsed": true
   },
   "outputs": [],
   "source": [
    "import pandas as pd\n",
    "import numpy as np\n",
    "data = pd.read_csv(\"iris.csv\")\n",
    "data = data[:100]\n",
    "N = data.shape[0]\n",
    "\n",
    "list_species=[]\n",
    "for i in range(len(data.index)):\n",
    "    x = data[\"species\"][i]\n",
    "    if x not in list_species:\n",
    "        list_species.append(x)\n",
    "data[\"species\"] =data[\"species\"].replace(to_replace=list_species, value=range(len(list_species)))\n",
    "\n",
    "X = data.drop(\"species\", 1)\n",
    "y = data[\"species\"]"
   ]
  },
  {
   "cell_type": "markdown",
   "metadata": {},
   "source": [
    "## Define Z1 Linear regression"
   ]
  },
  {
   "cell_type": "code",
   "execution_count": 95,
   "metadata": {},
   "outputs": [],
   "source": [
    "def linear_output_z1(x, w1, b1):\n",
    "    z1 = np.dot(x, w1) + b1\n",
    "    return z1"
   ]
  },
  {
   "cell_type": "code",
   "execution_count": 96,
   "metadata": {},
   "outputs": [],
   "source": [
    "def sigmoid(a):\n",
    "    return 1.0 / (1.0 + np.exp(-a))"
   ]
  },
  {
   "cell_type": "code",
   "execution_count": 97,
   "metadata": {
    "collapsed": true
   },
   "outputs": [],
   "source": [
    "def logistic_output_z2(x, w2, b2):\n",
    "    z2 = sigmoid(np.dot(x, w2) + b2)\n",
    "    return z2"
   ]
  },
  {
   "cell_type": "code",
   "execution_count": 221,
   "metadata": {
    "collapsed": true
   },
   "outputs": [],
   "source": [
    "def logistic_output(x, z1, z2, theta0, theta1, theta2, theta3):\n",
    "    zf = theta0 + (z1 * theta1) + (z2 * theta2) + np.array(np.dot(x, theta3))\n",
    "    return zf"
   ]
  },
  {
   "cell_type": "code",
   "execution_count": 99,
   "metadata": {},
   "outputs": [],
   "source": [
    "def gradient_c_theta0(zf, y):\n",
    "    gradient = sum(sigmoid(zf)-y) / N\n",
    "    return gradient"
   ]
  },
  {
   "cell_type": "code",
   "execution_count": 100,
   "metadata": {
    "collapsed": true
   },
   "outputs": [],
   "source": [
    "def gradient_c_theta1(z1, zf, y):\n",
    "    gradient = np.matmul(z1, (sigmoid(zf)-y)) / N\n",
    "    return gradient"
   ]
  },
  {
   "cell_type": "code",
   "execution_count": 101,
   "metadata": {
    "collapsed": true
   },
   "outputs": [],
   "source": [
    "def gradient_c_theta2(z2, zf, y):\n",
    "    gradient = np.matmul(z2, (sigmoid(zf)-y)) / N\n",
    "    return gradient"
   ]
  },
  {
   "cell_type": "code",
   "execution_count": 125,
   "metadata": {
    "collapsed": true
   },
   "outputs": [],
   "source": [
    "def gradient_c_theta3(x, zf, y):\n",
    "    gradient = np.matmul(np.transpose(x), (sigmoid(zf)-y)) / N\n",
    "    return gradient"
   ]
  },
  {
   "cell_type": "code",
   "execution_count": 127,
   "metadata": {
    "collapsed": true
   },
   "outputs": [],
   "source": [
    "def gradient_c_w1(x, theta1, zf, y):\n",
    "    gradient = np.matmul (np.transpose(x), theta1 * np.array((sigmoid(zf) - y))) / N\n",
    "    return gradient"
   ]
  },
  {
   "cell_type": "code",
   "execution_count": 128,
   "metadata": {
    "collapsed": true
   },
   "outputs": [],
   "source": [
    "def gradient_c_b1(theta1, zf, y):\n",
    "    gradient = sum(theta1 * np.array((sigmoid(zf) - y))) / N\n",
    "    return gradient"
   ]
  },
  {
   "cell_type": "code",
   "execution_count": 154,
   "metadata": {},
   "outputs": [],
   "source": [
    "def gradient_c_w2(x, w2, b2, theta2, zf, y):\n",
    "    gradient= np.matmul(np.transpose(x), sigmoid(np.dot(x, w2) + b2) * (1 - sigmoid(np.dot(x, w2) + b2)) * (theta2 * np.array((sigmoid(zf) - y)))) / N\n",
    "    return gradient"
   ]
  },
  {
   "cell_type": "code",
   "execution_count": 161,
   "metadata": {},
   "outputs": [],
   "source": [
    "def gradient_c_b2(x, w2, b2, theta2, zf, y):\n",
    "    gradient = sum (sigmoid(np.dot(x, w2) + b2) * (1 - sigmoid(np.dot(x, w2) + b2)) * (theta2 * np.array((sigmoid(zf) - y)))) / N\n",
    "    return gradient"
   ]
  },
  {
   "cell_type": "code",
   "execution_count": 225,
   "metadata": {},
   "outputs": [],
   "source": [
    "def gradient_descent(x, y, int_w1, int_w2, int_b1, int_b2, int_theta0, int_theta1, int_theta2, int_theta3, lowtrain, uptrain, iterations):\n",
    "    place_w1=int_w1\n",
    "    place_w2=int_w2\n",
    "    place_b1=int_b1\n",
    "    place_b2=int_b2\n",
    "    place_theta0=int_theta0\n",
    "    place_theta1=int_theta1\n",
    "    place_theta2=int_theta2\n",
    "    place_theta3=int_theta3\n",
    "    for i in range(iterations):\n",
    "        trainrate=np.random.uniform(lowtrain,uptrain,1)\n",
    "        z1 = linear_output_z1(x, place_w1, place_b1)\n",
    "        z2 = logistic_output_z2(x, place_w2, place_b2)\n",
    "        zf = logistic_output(x, z1, z2, place_theta0, place_theta1, place_theta2, place_theta3)\n",
    "        gradient_theta0 = gradient_c_theta0(zf, y)\n",
    "        gradient_theta1 = gradient_c_theta1(z1, zf, y)\n",
    "        gradient_theta2 = gradient_c_theta2(z2, zf, y)\n",
    "        gradient_theta3 = gradient_c_theta3(x, zf, y)\n",
    "        gradient_w1 = gradient_c_w1(x, int_theta1, zf, y)\n",
    "        gradient_w2 = gradient_c_w2(x, int_w2, int_b2, int_theta2, zf, y)\n",
    "        gradient_b1 = gradient_c_b1(int_theta1, zf, y)\n",
    "        gradient_b2 = gradient_c_b2(x, int_w2, int_b2, int_theta2, zf, y)\n",
    "        place_w1 = place_w1 - trainrate * gradient_w1\n",
    "        place_w2 = place_w2 - trainrate * gradient_w2\n",
    "        place_b1 = place_b1 - trainrate * gradient_b1\n",
    "        place_b2 = place_b2 - trainrate * gradient_b2\n",
    "        place_theta0 = place_theta0 - trainrate * gradient_theta0\n",
    "        place_theta1 = place_theta1 - trainrate * gradient_theta1\n",
    "        place_theta2 = place_theta2 - trainrate * gradient_theta2\n",
    "        place_theta3 = place_theta3 - trainrate * gradient_theta3\n",
    "    \n",
    "    return place_w1, place_w2, place_b1, place_b2, place_theta0, place_theta1, place_theta2, place_theta3"
   ]
  },
  {
   "cell_type": "code",
   "execution_count": 238,
   "metadata": {},
   "outputs": [
    {
     "data": {
      "text/plain": [
       "(array([ 0.47891466, -0.60847597, -0.82045709,  0.12787284]),\n",
       " array([ 0.43700489,  0.59727593,  0.03817737, -0.67536054]),\n",
       " array([-0.7535505]),\n",
       " array([-0.24393357]),\n",
       " array([ 0.75751426]),\n",
       " array([ 0.34121342]),\n",
       " array([-1.23698452]),\n",
       " array([-0.17771868, -1.83192129,  1.73177632,  3.97063313]))"
      ]
     },
     "execution_count": 238,
     "metadata": {},
     "output_type": "execute_result"
    }
   ],
   "source": [
    "int_w1, int_w2, int_b1, int_b2 = np.random.uniform(-1,1,4), np.random.uniform(-1,1,4), np.random.uniform(-1,1,1), np.random.uniform(-1,1,1)\n",
    "int_theta0, int_theta1, int_theta2, int_theta3 = 1, 0, -1, np.array([1,-1,2,4])\n",
    "gradient_descent(X, y, int_w1, int_w2, int_b1, int_b2, int_theta0, int_theta1, int_theta2, int_theta3, 0.01, 0.01, 1000)"
   ]
  },
  {
   "cell_type": "code",
   "execution_count": 232,
   "metadata": {},
   "outputs": [
    {
     "data": {
      "text/plain": [
       "array([ 0.50008865,  0.25754575, -0.20822868,  0.06094149])"
      ]
     },
     "execution_count": 232,
     "metadata": {},
     "output_type": "execute_result"
    }
   ],
   "source": [
    "np.random.uniform(-1,1,4)"
   ]
  },
  {
   "cell_type": "code",
   "execution_count": null,
   "metadata": {
    "collapsed": true
   },
   "outputs": [],
   "source": []
  },
  {
   "cell_type": "code",
   "execution_count": null,
   "metadata": {
    "collapsed": true
   },
   "outputs": [],
   "source": []
  },
  {
   "cell_type": "code",
   "execution_count": null,
   "metadata": {
    "collapsed": true
   },
   "outputs": [],
   "source": []
  }
 ],
 "metadata": {
  "kernelspec": {
   "display_name": "Python 3",
   "language": "python",
   "name": "python3"
  },
  "language_info": {
   "codemirror_mode": {
    "name": "ipython",
    "version": 3
   },
   "file_extension": ".py",
   "mimetype": "text/x-python",
   "name": "python",
   "nbconvert_exporter": "python",
   "pygments_lexer": "ipython3",
   "version": "3.6.1"
  }
 },
 "nbformat": 4,
 "nbformat_minor": 2
}
