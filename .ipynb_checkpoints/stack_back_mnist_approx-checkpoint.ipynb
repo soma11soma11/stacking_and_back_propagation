{
 "cells": [
  {
   "cell_type": "markdown",
   "metadata": {},
   "source": [
    "# Stacking and back propagation on Mnist APPROXIMATE"
   ]
  },
  {
   "cell_type": "markdown",
   "metadata": {},
   "source": [
    "### import data"
   ]
  },
  {
   "cell_type": "code",
   "execution_count": 117,
   "metadata": {
    "collapsed": true
   },
   "outputs": [],
   "source": [
    "from sklearn.datasets import fetch_mldata\n",
    "import numpy as np\n",
    "mnist = fetch_mldata('MNIST original', data_home=\".\")\n",
    "X = mnist.data\n",
    "s = np.ones(X.shape[0])\n",
    "X_1 = np.hstack((X, s.reshape(len(s),1)))\n",
    "y_float = mnist.target\n",
    "y_int = y_float.astype(np.int64)\n",
    "y = np.eye(10)[y_int]\n",
    "N = X.shape[0]"
   ]
  },
  {
   "cell_type": "markdown",
   "metadata": {},
   "source": [
    "### define function"
   ]
  },
  {
   "cell_type": "code",
   "execution_count": 222,
   "metadata": {
    "collapsed": true
   },
   "outputs": [],
   "source": [
    "def linear_output_z1(x, w1):\n",
    "    z1 = np.dot(x, w1) \n",
    "    return z1\n",
    "\n",
    "def softmax(x):\n",
    "    \"\"\"Compute softmax values for each sets of scores in x.\"\"\"\n",
    "    e_x = np.exp(x - np.max(x))\n",
    "    return e_x / e_x.sum(axis=0)"
   ]
  },
  {
   "cell_type": "markdown",
   "metadata": {},
   "source": [
    "### define gradient descent"
   ]
  },
  {
   "cell_type": "code",
   "execution_count": 223,
   "metadata": {},
   "outputs": [],
   "source": [
    "def cross_entropy(theta, w1, w2, x, y):\n",
    "    x_1 = np.hstack((X, s.reshape(len(s),1)))\n",
    "    z1 = linear_output_z1(x_1, w1)\n",
    "    z2 = softmax(np.dot(x_1, np.transpose(w2)))\n",
    "    Z = np.c_[x, z1, z2, s]\n",
    "    zf = np.matmul(theta, np.transpose(Z))\n",
    "    p = softmax(zf)\n",
    "    ce =  np.multiply(np.transpose(y), np.log(p))\n",
    "    return z2"
   ]
  },
  {
   "cell_type": "code",
   "execution_count": 224,
   "metadata": {
    "collapsed": true
   },
   "outputs": [],
   "source": [
    "hoge = np.dot(X_1, np.transpose(initial_w2)) "
   ]
  },
  {
   "cell_type": "code",
   "execution_count": null,
   "metadata": {},
   "outputs": [],
   "source": []
  },
  {
   "cell_type": "code",
   "execution_count": 225,
   "metadata": {},
   "outputs": [
    {
     "data": {
      "text/plain": [
       "array([ 0.,  0.,  0.,  0.,  0.,  0.,  0.,  0.,  0.,  1.])"
      ]
     },
     "execution_count": 225,
     "metadata": {},
     "output_type": "execute_result"
    }
   ],
   "source": [
    "softmax(hoge[0])"
   ]
  },
  {
   "cell_type": "code",
   "execution_count": 226,
   "metadata": {},
   "outputs": [
    {
     "name": "stderr",
     "output_type": "stream",
     "text": [
      "/Library/Frameworks/Python.framework/Versions/3.6/lib/python3.6/site-packages/ipykernel_launcher.py:8: RuntimeWarning: invalid value encountered in true_divide\n",
      "  \n"
     ]
    },
    {
     "data": {
      "text/plain": [
       "array([  0.,  nan,   0.,  nan,   0.,   0.,  nan,  nan,  nan,   0.])"
      ]
     },
     "execution_count": 226,
     "metadata": {},
     "output_type": "execute_result"
    }
   ],
   "source": [
    "softmax(hoge)[0]"
   ]
  },
  {
   "cell_type": "code",
   "execution_count": null,
   "metadata": {
    "collapsed": true
   },
   "outputs": [],
   "source": []
  },
  {
   "cell_type": "markdown",
   "metadata": {},
   "source": [
    "### initialization"
   ]
  },
  {
   "cell_type": "code",
   "execution_count": 227,
   "metadata": {},
   "outputs": [],
   "source": [
    "initial_theta = np.random.uniform(-1,1,(10, X.shape[1]+12))\n",
    "initial_w1 = np.random.uniform(-1,1, X.shape[1]+1)\n",
    "initial_w2 = np.random.uniform(-1,1,(10, X.shape[1]+1))"
   ]
  },
  {
   "cell_type": "code",
   "execution_count": 228,
   "metadata": {
    "scrolled": true
   },
   "outputs": [
    {
     "name": "stderr",
     "output_type": "stream",
     "text": [
      "/Library/Frameworks/Python.framework/Versions/3.6/lib/python3.6/site-packages/ipykernel_launcher.py:8: RuntimeWarning: invalid value encountered in true_divide\n",
      "  \n"
     ]
    },
    {
     "data": {
      "text/plain": [
       "array([[ nan,  nan,   0., ...,  nan,  nan,  nan],\n",
       "       [ nan,  nan,   0., ...,  nan,  nan,  nan],\n",
       "       [ nan,  nan,   0., ...,  nan,  nan,  nan],\n",
       "       ..., \n",
       "       [ nan,  nan,   0., ...,  nan,  nan,  nan],\n",
       "       [ nan,  nan,   0., ...,  nan,  nan,  nan],\n",
       "       [ nan,  nan,   0., ...,  nan,  nan,  nan]])"
      ]
     },
     "execution_count": 228,
     "metadata": {},
     "output_type": "execute_result"
    }
   ],
   "source": [
    "cross_entropy(initial_theta, initial_w1, initial_w2, X, y)"
   ]
  },
  {
   "cell_type": "code",
   "execution_count": null,
   "metadata": {
    "collapsed": true
   },
   "outputs": [],
   "source": []
  },
  {
   "cell_type": "code",
   "execution_count": null,
   "metadata": {},
   "outputs": [],
   "source": []
  },
  {
   "cell_type": "code",
   "execution_count": 229,
   "metadata": {},
   "outputs": [],
   "source": [
    "hoge = np.dot(X_1, np.transpose(initial_w2)) "
   ]
  },
  {
   "cell_type": "code",
   "execution_count": 230,
   "metadata": {},
   "outputs": [
    {
     "data": {
      "text/plain": [
       "array([[  3.32059453e-05,   1.19710436e-05,   1.21935175e-05, ...,\n",
       "          1.21165962e-05,   1.22358175e-05,   1.22016982e-05],\n",
       "       [  3.32059453e-05,   1.19710436e-05,   1.21935175e-05, ...,\n",
       "          1.21165962e-05,   1.22358175e-05,   1.22016982e-05],\n",
       "       [  3.32059453e-05,   1.19710436e-05,   1.21935175e-05, ...,\n",
       "          1.21165962e-05,   1.22358175e-05,   1.22016982e-05],\n",
       "       ..., \n",
       "       [  1.22157846e-05,   1.19710436e-05,   1.21935175e-05, ...,\n",
       "          1.21165962e-05,   1.22358175e-05,   3.31676546e-05],\n",
       "       [  1.22157846e-05,   1.19710436e-05,   1.21935175e-05, ...,\n",
       "          1.21165962e-05,   1.22358175e-05,   3.31676546e-05],\n",
       "       [  1.22157846e-05,   1.19710436e-05,   1.21935175e-05, ...,\n",
       "          1.21165962e-05,   1.22358175e-05,   3.31676546e-05]])"
      ]
     },
     "execution_count": 230,
     "metadata": {},
     "output_type": "execute_result"
    }
   ],
   "source": [
    "softmax(y)"
   ]
  },
  {
   "cell_type": "code",
   "execution_count": 247,
   "metadata": {},
   "outputs": [
    {
     "name": "stderr",
     "output_type": "stream",
     "text": [
      "/Library/Frameworks/Python.framework/Versions/3.6/lib/python3.6/site-packages/ipykernel_launcher.py:8: RuntimeWarning: invalid value encountered in true_divide\n",
      "  \n"
     ]
    },
    {
     "data": {
      "text/plain": [
       "array([[ nan,  nan,  nan,  nan,  nan,   1.,  nan,  nan,  nan,  nan],\n",
       "       [ nan,  nan,  nan,  nan,  nan,   0.,  nan,  nan,  nan,  nan]])"
      ]
     },
     "execution_count": 247,
     "metadata": {},
     "output_type": "execute_result"
    }
   ],
   "source": [
    "softmax(hoge[10:12])"
   ]
  },
  {
   "cell_type": "code",
   "execution_count": 249,
   "metadata": {},
   "outputs": [],
   "source": [
    "new_x = np.cbrt(X)"
   ]
  },
  {
   "cell_type": "code",
   "execution_count": 252,
   "metadata": {
    "collapsed": true
   },
   "outputs": [],
   "source": [
    "new_X_1 = np.hstack((new_x, s.reshape(len(s),1)))\n"
   ]
  },
  {
   "cell_type": "code",
   "execution_count": 253,
   "metadata": {},
   "outputs": [],
   "source": [
    "hoge = np.dot(new_X_1, np.transpose(initial_w2)) "
   ]
  },
  {
   "cell_type": "code",
   "execution_count": 258,
   "metadata": {},
   "outputs": [
    {
     "data": {
      "text/plain": [
       "array([  4.99052414e-72,   7.27273071e-99,   4.58130618e-08,\n",
       "         5.01339011e-34,   1.32243317e-64,   2.54914066e-24,\n",
       "         2.54250574e-17,   5.72639181e-40,   9.99999954e-01,\n",
       "         7.14560320e-64])"
      ]
     },
     "execution_count": 258,
     "metadata": {},
     "output_type": "execute_result"
    }
   ],
   "source": [
    "softmax(hoge[0])"
   ]
  },
  {
   "cell_type": "code",
   "execution_count": 259,
   "metadata": {},
   "outputs": [
    {
     "data": {
      "text/plain": [
       "(70000, 10)"
      ]
     },
     "execution_count": 259,
     "metadata": {},
     "output_type": "execute_result"
    }
   ],
   "source": [
    "hoge.shape"
   ]
  },
  {
   "cell_type": "code",
   "execution_count": 264,
   "metadata": {},
   "outputs": [
    {
     "data": {
      "text/plain": [
       "array([  1.50997954e-61,   5.77233935e-79,   3.41523929e-57,\n",
       "         1.35535404e-48,   4.73393248e-59,   9.10685899e-48,\n",
       "         2.73984166e-34,   1.51452242e-44,   9.41136048e-18,\n",
       "         1.06905854e-76])"
      ]
     },
     "execution_count": 264,
     "metadata": {},
     "output_type": "execute_result"
    }
   ],
   "source": [
    "softmax(hoge)[0]"
   ]
  },
  {
   "cell_type": "code",
   "execution_count": null,
   "metadata": {
    "collapsed": true
   },
   "outputs": [],
   "source": [
    "v"
   ]
  }
 ],
 "metadata": {
  "kernelspec": {
   "display_name": "Python 3",
   "language": "python",
   "name": "python3"
  },
  "language_info": {
   "codemirror_mode": {
    "name": "ipython",
    "version": 3
   },
   "file_extension": ".py",
   "mimetype": "text/x-python",
   "name": "python",
   "nbconvert_exporter": "python",
   "pygments_lexer": "ipython3",
   "version": "3.6.1"
  }
 },
 "nbformat": 4,
 "nbformat_minor": 2
}
