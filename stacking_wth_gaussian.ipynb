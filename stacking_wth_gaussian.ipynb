{
 "cells": [
  {
   "cell_type": "markdown",
   "metadata": {
    "collapsed": true
   },
   "source": [
    "### Import and Organise the data####"
   ]
  },
  {
   "cell_type": "code",
   "execution_count": 19,
   "metadata": {
    "collapsed": true
   },
   "outputs": [],
   "source": [
    "from sklearn.datasets import fetch_mldata\n",
    "import numpy as np\n",
    "from sklearn.utils import shuffle\n",
    "mnist = fetch_mldata('MNIST original', data_home=\".\")\n",
    "mnist.data, mnist.target = shuffle(mnist.data, mnist.target)\n",
    "X = mnist.data\n",
    "y_float = mnist.target\n",
    "y_int = y_float.astype(np.int64)\n",
    "y = np.eye(10)[y_int]"
   ]
  },
  {
   "cell_type": "code",
   "execution_count": 20,
   "metadata": {},
   "outputs": [],
   "source": [
    "from sklearn.model_selection import train_test_split\n",
    "X_train, X_test, y_train, y_test = train_test_split(X, y, test_size=0.25, random_state=42)\n",
    "s_train = np.ones(X_train.shape[0])\n",
    "X_train = np.hstack((X_train, s_train.reshape(len(s_train),1)))\n",
    "s_test = np.ones(X_test.shape[0])\n",
    "X_test = np.hstack((X_test, s_test.reshape(len(s_test),1)))"
   ]
  },
  {
   "cell_type": "markdown",
   "metadata": {
    "collapsed": true
   },
   "source": [
    "## define useful functions "
   ]
  },
  {
   "cell_type": "code",
   "execution_count": 21,
   "metadata": {
    "collapsed": true
   },
   "outputs": [],
   "source": [
    "def sigmoid(a):\n",
    "    return 1.0 / (1.0 + np.exp(-a))\n"
   ]
  },
  {
   "cell_type": "markdown",
   "metadata": {},
   "source": [
    "### gradient descent"
   ]
  },
  {
   "cell_type": "code",
   "execution_count": 22,
   "metadata": {},
   "outputs": [],
   "source": [
    "def gradient(x, y, w1, w2, theta1, theta2):\n",
    "    z1 = np.matmul(x, w1)\n",
    "    z2 = np.matmul(x, w2)\n",
    "    zf = np.matmul(z1, theta1) + np.matmul(z2, theta2)\n",
    "    sig = (sigmoid(zf)-y) # [N, 10]\n",
    "    gradient_c_theta1 = np.matmul(np.transpose(z1), sig) / N #[S1, N] [N, 10]\n",
    "    gradient_c_theta2 = np.matmul(np.transpose(z2), sig) / N #[S2, N] [N, 10]\n",
    "    gradient_c_z1 = np.matmul(theta1, np.transpose(sig))  / N #[S1, 10] [N, 10]\n",
    "    gradient_c_z2 = np.matmul(theta2, np.transpose(sig)) / N \n",
    "    #gradient_z1_w1= np.tranpose(x).T[:,:,None]*np.transpose(np.multiply(sigmoid(z2), (1-sig(z2)))).T[:,None] #[N, S1, 780]\n",
    "    gradient_z1_w1 =x\n",
    "    gradient_c_w1 = np.matmul(np.transpose(x),np.transpose(gradient_c_z1))\n",
    "    gradient_z2_w2=np.ones((N,S2_logistic,785))\n",
    "    gradient_c_w2=np.ones((S2_logistic,785))\n",
    "    for i in range(S2_logistic):\n",
    "        siggy = np.multiply(sigmoid(z2),(1-sigmoid(z2))) ### [N,S2 ]\n",
    "        gradient_z2_w2[:,i,:] = x * (siggy[:,i].reshape(N,1))   ###[N,S2,785]\n",
    "    for i in range(S2_logistic):    \n",
    "        gradient_c_w2[i,:] =np.matmul(gradient_c_z1[i,:],gradient_z2_w2[:,i,:])\n",
    "        \n",
    "    return zf, gradient_c_theta1, gradient_c_theta2, gradient_c_w1, gradient_c_w2"
   ]
  },
  {
   "cell_type": "code",
   "execution_count": 23,
   "metadata": {
    "collapsed": true
   },
   "outputs": [],
   "source": [
    "# def gradient_c_w3(zf,x,w2,y,beta,theta3):\n",
    "#     gradient_c_z3=gradient_c_theta3(theta3,zf,y)\n",
    "#     for i in range(3):\n",
    "#         Scalar=np.exp(-beta*(np.linalg.norm(x-np.transpose(w2)[i,:])))\n",
    "#     #gradient=(2*Scalar*beta)*(x-w2)\n",
    "#     return Scalar\n",
    "    \n",
    "\n",
    "# def gradient_c_theta3(x, zf, y):\n",
    "#     gradient = np.matmul(np.transpose(x), (sigmoid(zf)-y)) / N\n",
    "#     return gradient"
   ]
  },
  {
   "cell_type": "code",
   "execution_count": 24,
   "metadata": {},
   "outputs": [],
   "source": [
    "# z1 = linear_output_z1(X_train, int_w1)\n",
    "# z2 = logistic_output_z2(X_train, int_w2)\n",
    "# zf = logistic_output(X_train, z1, z2, int_theta1, int_theta2)"
   ]
  },
  {
   "cell_type": "code",
   "execution_count": 32,
   "metadata": {
    "collapsed": true
   },
   "outputs": [],
   "source": [
    "def gradient_descent(x, y, int_w1, int_w2, int_theta1, int_theta2, lowtrain, uptrain, iterations,N):\n",
    "\n",
    "    place_w1=int_w1\n",
    "    place_w2=int_w2\n",
    "    place_theta1=int_theta1\n",
    "    place_theta2=int_theta2\n",
    "   # place_theta3=int_theta3\n",
    "\n",
    "    for i in range(iterations):\n",
    "        trainrate=np.random.uniform(lowtrain,uptrain,1)/np.cbrt(i+1) \n",
    "\n",
    "        zf, gradient_theta1, gradient_theta2, gradient_w1, gradient_w2, = gradient(x, y, place_w1, place_w2, place_theta1, place_theta2)\n",
    "        p = sigmoid(zf)\n",
    "            \n",
    "        place_w1 = place_w1 - (trainrate * gradient_w1) - (0.1/N)*place_w1 * trainrate\n",
    "        place_w2 = place_w2 - (trainrate * np.transpose(gradient_w2)) - (0.1/N)*place_w2 * trainrate\n",
    "        place_theta1 = place_theta1 - trainrate*gradient_theta1*0.1 - (0.1/N)*place_theta1 * trainrate \n",
    "        place_theta2 = place_theta2 - trainrate*gradient_theta2 - (0.1/N)*place_theta2 * trainrate\n",
    "    \n",
    "    return  p, place_theta1, place_theta2, place_w1, place_w2"
   ]
  },
  {
   "cell_type": "code",
   "execution_count": 41,
   "metadata": {
    "collapsed": true
   },
   "outputs": [],
   "source": [
    "def predict_accuracy(xtest, ytest, theta1, theta2, w1, w2):\n",
    "    z1 = np.matmul(xtest, w1)\n",
    "    z2 = np.matmul(xtest, w2)\n",
    "    zf = np.matmul(z1, theta1) + np.matmul(z2, theta2)\n",
    "    p = sigmoid(zf)\n",
    "    prediction = np.argmax(p, axis=1)\n",
    "    answer = np.argmax(ytest, axis=1)\n",
    "    success_rate = answer == prediction\n",
    "    success_rate = success_rate*1\n",
    "    prediction_rate = sum(success_rate) / xtest.shape[0]\n",
    "    \n",
    "    return prediction_rate"
   ]
  },
  {
   "cell_type": "code",
   "execution_count": 43,
   "metadata": {},
   "outputs": [
    {
     "name": "stderr",
     "output_type": "stream",
     "text": [
      "/Library/Frameworks/Python.framework/Versions/3.6/lib/python3.6/site-packages/ipykernel_launcher.py:2: RuntimeWarning: overflow encountered in exp\n",
      "  \n"
     ]
    }
   ],
   "source": [
    "S1_linear = 5\n",
    "S2_logistic = 2\n",
    "S3_Gauss = 3\n",
    "N=52500 # Batch size\n",
    "\n",
    "int_w1, int_w2,int_w3 = np.random.uniform(-1,1,(X_train.shape[1],S1_linear)), np.random.uniform(-1,1,(X_train.shape[1], S2_logistic)), np.random.uniform(-1,1,(X_train.shape[1], S3_Gauss))\n",
    "int_theta1, int_theta2, int_theta3 = np.random.uniform(-1,1,(S1_linear,10)), np.random.uniform(-1,1,(S2_logistic,10)), np.random.uniform(-1,1,(S3_Gauss,10))\n",
    "result = gradient_descent(X_train, y_train, int_w1, int_w2, int_theta1, int_theta2, 0.00001, 0.0001, 1,N)"
   ]
  },
  {
   "cell_type": "code",
   "execution_count": null,
   "metadata": {
    "scrolled": true
   },
   "outputs": [
    {
     "name": "stderr",
     "output_type": "stream",
     "text": [
      "/Library/Frameworks/Python.framework/Versions/3.6/lib/python3.6/site-packages/ipykernel_launcher.py:2: RuntimeWarning: overflow encountered in exp\n",
      "  \n"
     ]
    },
    {
     "name": "stdout",
     "output_type": "stream",
     "text": [
      "0 0.456971428571\n",
      "1 0.571657142857\n",
      "2 0.559314285714\n",
      "3 0.556\n",
      "4 0.559257142857\n",
      "5 0.565714285714\n",
      "6 0.432228571429\n",
      "7 0.579371428571\n",
      "8 0.519028571429\n",
      "9 0.504514285714\n",
      "10 0.505657142857\n",
      "11 0.487714285714\n",
      "12 0.566514285714\n",
      "13 0.562571428571\n",
      "14 0.491885714286\n",
      "15 0.487657142857\n",
      "16 0.595942857143\n",
      "17 0.498571428571\n",
      "18 0.5756\n",
      "19 0.5368\n",
      "20 0.570285714286\n",
      "21 0.406571428571\n",
      "22 0.535028571429\n",
      "23 0.560114285714\n",
      "24 0.524514285714\n",
      "25 0.587428571429\n",
      "26 0.515828571429\n",
      "27 0.529942857143\n",
      "28 0.480057142857\n",
      "29 0.517542857143\n",
      "30 0.550114285714\n",
      "31 0.607657142857\n",
      "32 0.443485714286\n",
      "33 0.573028571429\n",
      "34 0.581085714286\n",
      "35 0.592628571429\n",
      "36 0.509885714286\n",
      "37 0.527085714286\n",
      "38 0.530857142857\n",
      "39 0.5608\n",
      "40 0.555828571429\n",
      "41 0.581657142857\n",
      "42 0.625428571429\n",
      "43 0.547085714286\n",
      "44 0.575314285714\n",
      "45 0.567714285714\n",
      "46 0.586571428571\n",
      "47 0.556228571429\n",
      "48 0.565828571429\n",
      "49 0.520228571429\n",
      "50 0.579028571429\n",
      "51 0.588514285714\n",
      "52 0.5904\n",
      "53 0.497428571429\n",
      "54 0.585542857143\n",
      "55 0.556685714286\n",
      "56 0.578914285714\n",
      "57 0.593314285714\n",
      "58 0.5988\n",
      "59 0.506\n",
      "60 0.588285714286\n",
      "61 0.579142857143\n",
      "62 0.576628571429\n"
     ]
    }
   ],
   "source": [
    "for i in range(1000):\n",
    "    X_train, y_train = shuffle(X_train, y_train)\n",
    "    X_train_mini, y_train_mini = X_train[0:100], y_train[0:100]\n",
    "    N = X_train_mini.shape[0]\n",
    "    int_w1 = result[3]\n",
    "    int_w2 = result[4]\n",
    "    int_theta1 = result[1]\n",
    "    int_theta2 = result[2]\n",
    "    #int_theta3# = result[3]\n",
    "\n",
    "    result = gradient_descent(X_train_mini, y_train_mini, int_w1, int_w2, int_theta1, int_theta2, 0.00001, 0.001, 5,N)\n",
    "    output = predict_accuracy(X_test, y_test, result[1], result[2], result[3], result[4])\n",
    "    print(i, output)"
   ]
  },
  {
   "cell_type": "code",
   "execution_count": null,
   "metadata": {
    "collapsed": true
   },
   "outputs": [],
   "source": []
  },
  {
   "cell_type": "code",
   "execution_count": null,
   "metadata": {
    "collapsed": true
   },
   "outputs": [],
   "source": []
  },
  {
   "cell_type": "code",
   "execution_count": null,
   "metadata": {
    "collapsed": true
   },
   "outputs": [],
   "source": []
  },
  {
   "cell_type": "code",
   "execution_count": null,
   "metadata": {
    "collapsed": true
   },
   "outputs": [],
   "source": []
  },
  {
   "cell_type": "code",
   "execution_count": null,
   "metadata": {
    "collapsed": true
   },
   "outputs": [],
   "source": []
  },
  {
   "cell_type": "code",
   "execution_count": null,
   "metadata": {
    "collapsed": true
   },
   "outputs": [],
   "source": []
  },
  {
   "cell_type": "code",
   "execution_count": null,
   "metadata": {
    "collapsed": true
   },
   "outputs": [],
   "source": []
  },
  {
   "cell_type": "code",
   "execution_count": null,
   "metadata": {
    "collapsed": true
   },
   "outputs": [],
   "source": []
  },
  {
   "cell_type": "code",
   "execution_count": null,
   "metadata": {
    "collapsed": true
   },
   "outputs": [],
   "source": []
  },
  {
   "cell_type": "code",
   "execution_count": null,
   "metadata": {
    "collapsed": true
   },
   "outputs": [],
   "source": []
  },
  {
   "cell_type": "code",
   "execution_count": null,
   "metadata": {
    "collapsed": true
   },
   "outputs": [],
   "source": []
  },
  {
   "cell_type": "code",
   "execution_count": null,
   "metadata": {
    "collapsed": true
   },
   "outputs": [],
   "source": []
  },
  {
   "cell_type": "code",
   "execution_count": null,
   "metadata": {
    "collapsed": true
   },
   "outputs": [],
   "source": []
  },
  {
   "cell_type": "code",
   "execution_count": null,
   "metadata": {
    "collapsed": true
   },
   "outputs": [],
   "source": []
  },
  {
   "cell_type": "code",
   "execution_count": null,
   "metadata": {
    "collapsed": true
   },
   "outputs": [],
   "source": []
  },
  {
   "cell_type": "code",
   "execution_count": null,
   "metadata": {
    "collapsed": true
   },
   "outputs": [],
   "source": []
  },
  {
   "cell_type": "code",
   "execution_count": null,
   "metadata": {
    "collapsed": true
   },
   "outputs": [],
   "source": []
  },
  {
   "cell_type": "code",
   "execution_count": null,
   "metadata": {
    "collapsed": true
   },
   "outputs": [],
   "source": []
  },
  {
   "cell_type": "code",
   "execution_count": null,
   "metadata": {
    "collapsed": true
   },
   "outputs": [],
   "source": []
  },
  {
   "cell_type": "code",
   "execution_count": null,
   "metadata": {
    "collapsed": true
   },
   "outputs": [],
   "source": []
  },
  {
   "cell_type": "code",
   "execution_count": null,
   "metadata": {
    "collapsed": true
   },
   "outputs": [],
   "source": []
  },
  {
   "cell_type": "code",
   "execution_count": null,
   "metadata": {
    "collapsed": true
   },
   "outputs": [],
   "source": []
  },
  {
   "cell_type": "code",
   "execution_count": null,
   "metadata": {
    "collapsed": true
   },
   "outputs": [],
   "source": []
  },
  {
   "cell_type": "code",
   "execution_count": null,
   "metadata": {
    "collapsed": true
   },
   "outputs": [],
   "source": []
  },
  {
   "cell_type": "code",
   "execution_count": null,
   "metadata": {
    "collapsed": true
   },
   "outputs": [],
   "source": []
  },
  {
   "cell_type": "code",
   "execution_count": null,
   "metadata": {
    "collapsed": true
   },
   "outputs": [],
   "source": []
  },
  {
   "cell_type": "code",
   "execution_count": null,
   "metadata": {
    "collapsed": true
   },
   "outputs": [],
   "source": []
  },
  {
   "cell_type": "code",
   "execution_count": null,
   "metadata": {
    "collapsed": true
   },
   "outputs": [],
   "source": []
  },
  {
   "cell_type": "code",
   "execution_count": null,
   "metadata": {
    "collapsed": true
   },
   "outputs": [],
   "source": []
  },
  {
   "cell_type": "code",
   "execution_count": null,
   "metadata": {
    "collapsed": true
   },
   "outputs": [],
   "source": []
  },
  {
   "cell_type": "code",
   "execution_count": null,
   "metadata": {
    "collapsed": true
   },
   "outputs": [],
   "source": []
  },
  {
   "cell_type": "code",
   "execution_count": null,
   "metadata": {
    "collapsed": true
   },
   "outputs": [],
   "source": []
  },
  {
   "cell_type": "code",
   "execution_count": null,
   "metadata": {
    "collapsed": true
   },
   "outputs": [],
   "source": []
  },
  {
   "cell_type": "code",
   "execution_count": null,
   "metadata": {
    "collapsed": true
   },
   "outputs": [],
   "source": []
  },
  {
   "cell_type": "code",
   "execution_count": null,
   "metadata": {
    "collapsed": true
   },
   "outputs": [],
   "source": []
  },
  {
   "cell_type": "code",
   "execution_count": null,
   "metadata": {
    "collapsed": true
   },
   "outputs": [],
   "source": []
  },
  {
   "cell_type": "code",
   "execution_count": null,
   "metadata": {
    "collapsed": true
   },
   "outputs": [],
   "source": []
  },
  {
   "cell_type": "code",
   "execution_count": null,
   "metadata": {
    "collapsed": true
   },
   "outputs": [],
   "source": []
  },
  {
   "cell_type": "code",
   "execution_count": null,
   "metadata": {
    "collapsed": true
   },
   "outputs": [],
   "source": []
  },
  {
   "cell_type": "code",
   "execution_count": null,
   "metadata": {
    "collapsed": true
   },
   "outputs": [],
   "source": []
  },
  {
   "cell_type": "code",
   "execution_count": null,
   "metadata": {
    "collapsed": true
   },
   "outputs": [],
   "source": []
  },
  {
   "cell_type": "code",
   "execution_count": null,
   "metadata": {
    "collapsed": true
   },
   "outputs": [],
   "source": []
  },
  {
   "cell_type": "code",
   "execution_count": null,
   "metadata": {
    "collapsed": true
   },
   "outputs": [],
   "source": []
  },
  {
   "cell_type": "code",
   "execution_count": null,
   "metadata": {
    "collapsed": true
   },
   "outputs": [],
   "source": []
  },
  {
   "cell_type": "code",
   "execution_count": null,
   "metadata": {
    "collapsed": true
   },
   "outputs": [],
   "source": []
  },
  {
   "cell_type": "code",
   "execution_count": null,
   "metadata": {
    "collapsed": true
   },
   "outputs": [],
   "source": []
  },
  {
   "cell_type": "code",
   "execution_count": null,
   "metadata": {
    "collapsed": true
   },
   "outputs": [],
   "source": []
  },
  {
   "cell_type": "code",
   "execution_count": null,
   "metadata": {
    "collapsed": true
   },
   "outputs": [],
   "source": []
  },
  {
   "cell_type": "code",
   "execution_count": null,
   "metadata": {
    "collapsed": true
   },
   "outputs": [],
   "source": []
  },
  {
   "cell_type": "code",
   "execution_count": null,
   "metadata": {
    "collapsed": true
   },
   "outputs": [],
   "source": []
  },
  {
   "cell_type": "code",
   "execution_count": null,
   "metadata": {
    "collapsed": true
   },
   "outputs": [],
   "source": []
  },
  {
   "cell_type": "code",
   "execution_count": null,
   "metadata": {
    "collapsed": true
   },
   "outputs": [],
   "source": []
  },
  {
   "cell_type": "code",
   "execution_count": null,
   "metadata": {
    "collapsed": true
   },
   "outputs": [],
   "source": []
  },
  {
   "cell_type": "code",
   "execution_count": null,
   "metadata": {
    "collapsed": true
   },
   "outputs": [],
   "source": []
  },
  {
   "cell_type": "code",
   "execution_count": null,
   "metadata": {
    "collapsed": true
   },
   "outputs": [],
   "source": []
  }
 ],
 "metadata": {
  "kernelspec": {
   "display_name": "Python 3",
   "language": "python",
   "name": "python3"
  },
  "language_info": {
   "codemirror_mode": {
    "name": "ipython",
    "version": 3
   },
   "file_extension": ".py",
   "mimetype": "text/x-python",
   "name": "python",
   "nbconvert_exporter": "python",
   "pygments_lexer": "ipython3",
   "version": "3.6.1"
  }
 },
 "nbformat": 4,
 "nbformat_minor": 2
}
