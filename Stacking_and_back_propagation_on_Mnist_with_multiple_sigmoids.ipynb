{
 "cells": [
  {
   "cell_type": "markdown",
   "metadata": {},
   "source": [
    "# Stacking and back propagation on Mnist with multiple sigmoids"
   ]
  },
  {
   "cell_type": "markdown",
   "metadata": {},
   "source": [
    "### import data"
   ]
  },
  {
   "cell_type": "code",
   "execution_count": 1,
   "metadata": {
    "collapsed": true
   },
   "outputs": [],
   "source": [
    "from sklearn.datasets import fetch_mldata\n",
    "import numpy as np\n",
    "from sklearn.utils import shuffle\n",
    "mnist = fetch_mldata('MNIST original', data_home=\".\")\n",
    "mnist.data, mnist.target = shuffle(mnist.data, mnist.target)\n",
    "X = mnist.data\n",
    "y_float = mnist.target\n",
    "y_int = y_float.astype(np.int64)\n",
    "y = np.eye(10)[y_int]\n",
    "N = X.shape[0]"
   ]
  },
  {
   "cell_type": "markdown",
   "metadata": {},
   "source": [
    "### Cross Validation"
   ]
  },
  {
   "cell_type": "code",
   "execution_count": 2,
   "metadata": {},
   "outputs": [],
   "source": [
    "from sklearn.model_selection import train_test_split\n",
    "X_train, X_test, y_train, y_test = train_test_split(X, y, test_size=0.25, random_state=42)\n",
    "s_train = np.ones(X_train.shape[0])\n",
    "X_train = np.hstack((X_train, s_train.reshape(len(s_train),1)))\n",
    "s_test = np.ones(X_test.shape[0])\n",
    "X_test = np.hstack((X_test, s_test.reshape(len(s_test),1)))"
   ]
  },
  {
   "cell_type": "markdown",
   "metadata": {},
   "source": [
    "### PCA"
   ]
  },
  {
   "cell_type": "code",
   "execution_count": 3,
   "metadata": {},
   "outputs": [],
   "source": [
    "# from sklearn.decomposition import IncrementalPCA\n",
    "\n",
    "# n_batches = 100\n",
    "# inc_pca = IncrementalPCA(n_components = 154)\n",
    "# for X_batch in np.array_split(X_train, n_batches):\n",
    "#     inc_pca.partial_fit(X_batch)\n",
    "    \n",
    "# X_reduced_train = inc_pca.transform(X_train)\n",
    "# X_reduced_train = np.hstack((X_reduced_train, s_train.reshape(len(s_train),1)))\n",
    "# X_reduced_test = inc_pca.transform(X_test)\n",
    "# X_reduced_test = np.hstack((X_reduced_test, s_test.reshape(len(s_test),1)))"
   ]
  },
  {
   "cell_type": "markdown",
   "metadata": {},
   "source": [
    "### define function"
   ]
  },
  {
   "cell_type": "code",
   "execution_count": 4,
   "metadata": {
    "collapsed": true
   },
   "outputs": [],
   "source": [
    "def linear_output_z1(x, w1):\n",
    "    z1 = np.dot(x, w1)\n",
    "    return z1\n",
    "\n",
    "def logistic_output_z2(x, w2):\n",
    "    z2 = sigmoid(np.dot(x, w2))\n",
    "    return z2\n",
    "\n",
    "def sigmoid(a):\n",
    "    return 1.0 / (1.0 + np.exp(-a))"
   ]
  },
  {
   "cell_type": "markdown",
   "metadata": {},
   "source": [
    "### define gradient"
   ]
  },
  {
   "cell_type": "code",
   "execution_count": 5,
   "metadata": {
    "collapsed": true
   },
   "outputs": [],
   "source": [
    "def logistic_output(x, z1, z2, theta1, theta2, theta3):\n",
    "    zf = np.matmul(z1, theta1) + np.matmul(z2, theta2) + np.array(np.dot(x, theta3))\n",
    "    return zf\n",
    "\n",
    "def gradient_c_theta1(z1, zf, y):\n",
    "    gradient = np.matmul(np.transpose(z1), (sigmoid(zf)-y)) / N\n",
    "    return gradient\n",
    "\n",
    "def gradient_c_theta2(z2, zf, y):\n",
    "    gradient = np.matmul(np.transpose(z2), (sigmoid(zf)-y)) / N\n",
    "    return gradient\n",
    "\n",
    "def gradient_c_theta3(x, zf, y):\n",
    "    gradient = np.matmul(np.transpose(x), (sigmoid(zf)-y)) / N\n",
    "    return gradient\n",
    "\n",
    "def gradient_c_w1(x, theta1, zf, y):\n",
    "    gradient = np.matmul(np.transpose(x), np.transpose(np.matmul(theta1, np.transpose(np.array((sigmoid(zf) - y)))))) / N\n",
    "    return gradient\n",
    "\n",
    "def gradient_c_w2(x, w2, theta2, zf, y):\n",
    "    elemsig = sigmoid(np.matmul(x, w2)) # [5000, 1]\n",
    "    elem1=np.transpose(np.array(sigmoid(zf) - y)) # [10,5000]\n",
    "    elem2=np.matmul(theta2, elem1) # [1, 5000]\n",
    "    elem3=np.matmul(np.transpose(elemsig), np.transpose(elem2)) # [1,1]\n",
    "    elem4 = np.matmul(elemsig, (1 - elem3)) # [5000,1]\n",
    "    gradient= np.matmul(np.transpose(x), elem4)/ N # [785,1]\n",
    "\n",
    "    return gradient\n"
   ]
  },
  {
   "cell_type": "code",
   "execution_count": null,
   "metadata": {},
   "outputs": [],
   "source": [
    "z1 = linear_output_z1(X_train, int_w1)\n",
    "z2 = logistic_output_z2(X_train, int_w2)\n",
    "zf = logistic_output(X_train, z1, z2, int_theta1, int_theta2, int_theta3)\n",
    "\n",
    "elemsig = sigmoid(np.matmul(X_train, int_w2)) # [52500, 2]\n",
    "elem1=np.transpose(np.array(sigmoid(zf) - y_train)) # [10,52500]\n",
    "elem2=np.matmul(int_theta2, elem1) # [2, 52500]\n",
    "elem3=np.matmul(np.transpose(elemsig), np.transpose(elem2)) # [2,2]\n",
    "elem4 = np.matmul(elemsig, (1 - elem3)) # [5000,1]\n",
    "# gradient= np.matmul(np.transpose(x), elem4)/ N # [785,1]"
   ]
  },
  {
   "cell_type": "code",
   "execution_count": null,
   "metadata": {},
   "outputs": [],
   "source": [
    "elem3.shape"
   ]
  },
  {
   "cell_type": "code",
   "execution_count": null,
   "metadata": {
    "collapsed": true
   },
   "outputs": [],
   "source": []
  },
  {
   "cell_type": "markdown",
   "metadata": {},
   "source": [
    "### define gradient descent "
   ]
  },
  {
   "cell_type": "code",
   "execution_count": 6,
   "metadata": {
    "collapsed": true
   },
   "outputs": [],
   "source": [
    "def gradient_descent(x, y, int_w1, int_w2, int_theta1, int_theta2, int_theta3, lowtrain, uptrain, iterations):\n",
    "\n",
    "    place_w1=int_w1\n",
    "    place_w2=int_w2\n",
    "    place_theta1=int_theta1\n",
    "    place_theta2=int_theta2\n",
    "    place_theta3=int_theta3\n",
    "\n",
    "    for i in range(iterations):\n",
    "        trainrate=np.random.uniform(lowtrain,uptrain,1)/np.cbrt(i+1) \n",
    "        z1 = linear_output_z1(x, place_w1)\n",
    "        z2 = logistic_output_z2(x, place_w2)\n",
    "        zf = logistic_output(x, z1, z2, place_theta1, place_theta2, place_theta3)\n",
    "        p = sigmoid(zf)\n",
    "\n",
    "        gradient_theta1 = gradient_c_theta1(z1, zf, y)\n",
    "        gradient_theta2 = gradient_c_theta2(z2, zf, y)\n",
    "        gradient_theta3 = gradient_c_theta3(x, zf, y)\n",
    "        gradient_w1 = gradient_c_w1(x, place_theta1, zf, y)\n",
    "        gradient_w2 = gradient_c_w2(x, place_w2, place_theta2, zf, y)\n",
    "        \n",
    "            \n",
    "        place_w1 = place_w1 - (trainrate * gradient_w1) - (0.1/N)*place_w1 * trainrate\n",
    "        place_w2 = place_w2 - (trainrate * gradient_w2) - (0.1/N)*place_w2 * trainrate\n",
    "        place_theta1 = place_theta1 - trainrate*gradient_theta1*0.01 - (0.1/N)*place_theta1 * trainrate \n",
    "        place_theta2 = place_theta2 - trainrate*gradient_theta2 - (0.1/N)*place_theta2 * trainrate\n",
    "        place_theta3 = place_theta3 - trainrate*gradient_theta3 - (0.1/N)*place_theta3 * trainrate\n",
    "\n",
    "    \n",
    "    return  p, place_theta1, place_theta2, place_theta3, place_w1, place_w2\n"
   ]
  },
  {
   "cell_type": "markdown",
   "metadata": {},
   "source": [
    "### initialization"
   ]
  },
  {
   "cell_type": "code",
   "execution_count": 8,
   "metadata": {
    "scrolled": false
   },
   "outputs": [
    {
     "name": "stderr",
     "output_type": "stream",
     "text": [
      "/Library/Frameworks/Python.framework/Versions/3.6/lib/python3.6/site-packages/ipykernel_launcher.py:10: RuntimeWarning: overflow encountered in exp\n",
      "  # Remove the CWD from sys.path while we load stuff.\n"
     ]
    }
   ],
   "source": [
    "N_linear = 2\n",
    "M_logistic = 2\n",
    "\n",
    "int_w1, int_w2 = np.random.uniform(-1,1,(X_train.shape[1],N_linear)), np.random.uniform(-1,1,(X_train.shape[1], M_logistic))\n",
    "int_theta1, int_theta2, int_theta3 = np.random.uniform(-1,1,(N_linear,10)), np.random.uniform(-1,1,(M_logistic,10)),np.random.uniform(-1,1,(X_train.shape[1],10))\n",
    "# int_w1 = result[4]\n",
    "# int_w2 = result[5]\n",
    "# int_theta1 = result[1]\n",
    "# int_theta2 = result[2]\n",
    "# int_theta3 = result[3]\n",
    "\n",
    "result = gradient_descent(X_train, y_train, int_w1, int_w2, int_theta1, int_theta2, int_theta3, 0.00001, 0.0001, 50)"
   ]
  },
  {
   "cell_type": "code",
   "execution_count": 9,
   "metadata": {
    "collapsed": true
   },
   "outputs": [],
   "source": [
    "def predict_accuracy(xtest, ytest, theta1, theta2, theta3, w1, w2):\n",
    "    z1 = linear_output_z1(xtest, w1)\n",
    "    z2 = logistic_output_z2(xtest, w2)\n",
    "    zf = logistic_output(xtest, z1, z2, theta1, theta2, theta3)\n",
    "    p = sigmoid(zf)\n",
    "    prediction = np.argmax(p, axis=1)\n",
    "    answer = np.argmax(ytest, axis=1)\n",
    "    success_rate = answer == prediction\n",
    "    success_rate = success_rate*1\n",
    "    prediction_rate = sum(success_rate) / xtest.shape[0]\n",
    "    \n",
    "    return prediction_rate"
   ]
  },
  {
   "cell_type": "code",
   "execution_count": 10,
   "metadata": {},
   "outputs": [
    {
     "name": "stderr",
     "output_type": "stream",
     "text": [
      "/Library/Frameworks/Python.framework/Versions/3.6/lib/python3.6/site-packages/ipykernel_launcher.py:10: RuntimeWarning: overflow encountered in exp\n",
      "  # Remove the CWD from sys.path while we load stuff.\n"
     ]
    },
    {
     "data": {
      "text/plain": [
       "0.096799999999999997"
      ]
     },
     "execution_count": 10,
     "metadata": {},
     "output_type": "execute_result"
    }
   ],
   "source": [
    "predict_accuracy(X_test, y_test, result[1], result[2], result[3], result[4], result[5])"
   ]
  },
  {
   "cell_type": "code",
   "execution_count": null,
   "metadata": {},
   "outputs": [],
   "source": []
  },
  {
   "cell_type": "code",
   "execution_count": null,
   "metadata": {},
   "outputs": [],
   "source": []
  },
  {
   "cell_type": "code",
   "execution_count": null,
   "metadata": {},
   "outputs": [
    {
     "name": "stderr",
     "output_type": "stream",
     "text": [
      "/Library/Frameworks/Python.framework/Versions/3.6/lib/python3.6/site-packages/ipykernel_launcher.py:10: RuntimeWarning: overflow encountered in exp\n",
      "  # Remove the CWD from sys.path while we load stuff.\n"
     ]
    },
    {
     "name": "stdout",
     "output_type": "stream",
     "text": [
      "0.735714285714\n",
      "0.736228571429\n",
      "0.736857142857\n",
      "0.7376\n",
      "0.738514285714\n"
     ]
    }
   ],
   "source": [
    "for i in range(20):\n",
    "    int_w1 = result[4]\n",
    "    int_w2 = result[5]\n",
    "    int_theta1 = result[1]\n",
    "    int_theta2 = result[2]\n",
    "    int_theta3 = result[3]\n",
    "\n",
    "    result = gradient_descent(X_train, y_train, int_w1, int_w2, int_theta1, int_theta2, int_theta3, 0.00001, 0.0001, 50)\n",
    "    output = predict_accuracy(X_test, y_test, result[1], result[2], result[3], result[4], result[5])\n",
    "    print(output)"
   ]
  },
  {
   "cell_type": "code",
   "execution_count": null,
   "metadata": {},
   "outputs": [],
   "source": []
  },
  {
   "cell_type": "code",
   "execution_count": null,
   "metadata": {
    "collapsed": true
   },
   "outputs": [],
   "source": []
  }
 ],
 "metadata": {
  "kernelspec": {
   "display_name": "Python 3",
   "language": "python",
   "name": "python3"
  },
  "language_info": {
   "codemirror_mode": {
    "name": "ipython",
    "version": 3
   },
   "file_extension": ".py",
   "mimetype": "text/x-python",
   "name": "python",
   "nbconvert_exporter": "python",
   "pygments_lexer": "ipython3",
   "version": "3.6.1"
  }
 },
 "nbformat": 4,
 "nbformat_minor": 2
}
