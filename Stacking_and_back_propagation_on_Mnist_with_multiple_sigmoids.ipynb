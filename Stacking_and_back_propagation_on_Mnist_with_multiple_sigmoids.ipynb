{
 "cells": [
  {
   "cell_type": "markdown",
   "metadata": {},
   "source": [
    "# Stacking and back propagation on Mnist with multiple sigmoids"
   ]
  },
  {
   "cell_type": "markdown",
   "metadata": {},
   "source": [
    "### import data"
   ]
  },
  {
   "cell_type": "code",
   "execution_count": 3,
   "metadata": {
    "collapsed": true
   },
   "outputs": [],
   "source": [
    "from sklearn.datasets import fetch_mldata\n",
    "import numpy as np\n",
    "from sklearn.utils import shuffle\n",
    "mnist = fetch_mldata('MNIST original', data_home=\".\")\n",
    "mnist.data, mnist.target = shuffle(mnist.data, mnist.target)\n",
    "X = mnist.data[0:5000]\n",
    "s = np.ones(X.shape[0])\n",
    "X_1 = np.hstack((X, s.reshape(len(s),1)))\n",
    "y_float = mnist.target[0:5000]\n",
    "y_int = y_float.astype(np.int64)\n",
    "y = np.eye(10)[y_int]\n",
    "N = X.shape[1]"
   ]
  },
  {
   "cell_type": "code",
   "execution_count": null,
   "metadata": {},
   "outputs": [],
   "source": []
  },
  {
   "cell_type": "markdown",
   "metadata": {},
   "source": [
    "### define function"
   ]
  },
  {
   "cell_type": "code",
   "execution_count": 4,
   "metadata": {
    "collapsed": true
   },
   "outputs": [],
   "source": [
    "def linear_output_z1(x, w1):\n",
    "    z1 = np.dot(x, w1)\n",
    "    return z1\n",
    "\n",
    "def logistic_output_z2(x, w2):\n",
    "    z2 = sigmoid(np.dot(x, w2))\n",
    "    return z2\n",
    "\n",
    "def sigmoid(a):\n",
    "    return 1.0 / (1.0 + np.exp(-a))"
   ]
  },
  {
   "cell_type": "code",
   "execution_count": null,
   "metadata": {},
   "outputs": [],
   "source": []
  },
  {
   "cell_type": "markdown",
   "metadata": {},
   "source": [
    "### define gradient"
   ]
  },
  {
   "cell_type": "code",
   "execution_count": 25,
   "metadata": {},
   "outputs": [],
   "source": [
    "def logistic_output(x, z1, z2, theta1, theta2, theta3):\n",
    "    zf =  z2*theta2 + z2* theta2 + np.dot(x, theta3)\n",
    "    return zf\n",
    "\n",
    "def gradient_c_theta1(z1, zf, y):\n",
    "    gradient = np.matmul(np.transpose(z1), (sigmoid(zf)-y)) / N\n",
    "    return gradient\n",
    "\n",
    "def gradient_c_theta2(z2, zf, y):\n",
    "    gradient = np.matmul(np.transpose(z2), (sigmoid(zf)-y)) / N\n",
    "    return gradient\n",
    "\n",
    "def gradient_c_theta3(x, zf, y):\n",
    "    gradient = np.matmul(np.transpose(x), (sigmoid(zf)-y)) / N\n",
    "    return gradient\n",
    "\n",
    "def gradient_c_w1(x, theta1, zf, y):\n",
    "    gradient = np.matmul (np.transpose(x), theta1 * np.array((sigmoid(zf) - y))) / N\n",
    "    return gradient\n",
    "\n",
    "def gradient_c_w2(x, w2, theta2, zf, y):\n",
    "    gradient= np.matmul(np.transpose(x), sigmoid(np.dot(x, w2)) * (1 - sigmoid(np.dot(x, w2))) * (theta2 * np.array((sigmoid(zf) - y)))) / N\n",
    "    return gradient\n"
   ]
  },
  {
   "cell_type": "markdown",
   "metadata": {},
   "source": [
    "### define gradient descent "
   ]
  },
  {
   "cell_type": "code",
   "execution_count": 227,
   "metadata": {},
   "outputs": [],
   "source": [
    "def gradient_descent(x, y, int_w1, int_w2, int_theta1, int_theta2, int_theta3, lowtrain, uptrain, iterations):\n",
    "\n",
    "    place_w1=int_w1\n",
    "    place_w2=int_w2\n",
    "    place_theta1=int_theta1\n",
    "    place_theta2=int_theta2\n",
    "    place_theta3=int_theta3\n",
    "    \n",
    "    for i in range(iterations):\n",
    "        trainrate=np.random.uniform(lowtrain,uptrain,1)\n",
    "        z1 = linear_output_z1(x, place_w1)\n",
    "        z2 = logistic_output_z2(x, place_w2)\n",
    "        z2=np.dot(x,place_w2)\n",
    "        zf = logistic_output(x, z1, z2, place_theta1, place_theta2, place_theta3)\n",
    "        p = sigmoid(zf)\n",
    "\n",
    "        gradient_theta1 = gradient_c_theta1(z1, zf, y)\n",
    "\n",
    "        gradient_theta2 = gradient_c_theta1(z2, zf, y)\n",
    "\n",
    "        gradient_theta3 = gradient_c_theta3(x, zf, y)\n",
    "\n",
    "        gradient_w1 = gradient_c_w1(x, int_theta1, zf, y)\n",
    "\n",
    "        gradient_w2 = gradient_c_w2(x, int_w2, int_theta2, zf, y)\n",
    "            \n",
    "        place_w1 = place_w1 - (trainrate * gradient_w1)\n",
    "        place_w2 = place_w2 - (trainrate * gradient_w2)\n",
    "#         place_theta1 = place_theta1 -  trainrate*gradient_theta1\n",
    "        #place_theta2 = place_theta2 - trainrate*gradient_theta2\n",
    "#         place_theta3 = place_theta3 - trainrate * gradient_theta3\n",
    "        \n",
    "    \n",
    "    return  z2\n"
   ]
  },
  {
   "cell_type": "markdown",
   "metadata": {},
   "source": [
    "### initialization"
   ]
  },
  {
   "cell_type": "code",
   "execution_count": 228,
   "metadata": {
    "scrolled": false
   },
   "outputs": [
    {
     "name": "stderr",
     "output_type": "stream",
     "text": [
      "/Library/Frameworks/Python.framework/Versions/3.6/lib/python3.6/site-packages/ipykernel_launcher.py:10: RuntimeWarning: overflow encountered in exp\n",
      "  # Remove the CWD from sys.path while we load stuff.\n"
     ]
    }
   ],
   "source": [
    "N_linear = 1\n",
    "M_logistic = 1\n",
    "\n",
    "int_w1, int_w2 = np.random.uniform(-1,1,(X.shape[1]+1,N_linear)), np.random.uniform(-1,1,(X.shape[1]+1, M_logistic))\n",
    "int_theta1, int_theta2, int_theta3 = np.random.uniform(-1,1,(N_linear,10)), np.random.uniform(-1,1,(M_logistic,10)),np.random.uniform(-1,1,(X.shape[1] + 1,10))\n",
    "p = gradient_descent(X_1, y, int_w1, int_w2, int_theta1, int_theta2, int_theta3, 0.01, 0.01, 3)"
   ]
  },
  {
   "cell_type": "code",
   "execution_count": 229,
   "metadata": {},
   "outputs": [
    {
     "data": {
      "text/plain": [
       "(785, 1)"
      ]
     },
     "execution_count": 229,
     "metadata": {},
     "output_type": "execute_result"
    }
   ],
   "source": [
    "int_w1.shape"
   ]
  },
  {
   "cell_type": "code",
   "execution_count": 230,
   "metadata": {},
   "outputs": [
    {
     "data": {
      "text/plain": [
       "(5000, 10)"
      ]
     },
     "execution_count": 230,
     "metadata": {},
     "output_type": "execute_result"
    }
   ],
   "source": [
    "p.shape"
   ]
  },
  {
   "cell_type": "markdown",
   "metadata": {},
   "source": [
    "## np.dot(X_1,int_w2).shape"
   ]
  },
  {
   "cell_type": "code",
   "execution_count": 226,
   "metadata": {},
   "outputs": [
    {
     "data": {
      "text/plain": [
       "(5000, 10)"
      ]
     },
     "execution_count": 226,
     "metadata": {},
     "output_type": "execute_result"
    }
   ],
   "source": [
    "hoge  = linear_output_z1(X_1, int_w1) * int_theta1\n",
    "hoge.shape"
   ]
  },
  {
   "cell_type": "code",
   "execution_count": 159,
   "metadata": {},
   "outputs": [
    {
     "name": "stderr",
     "output_type": "stream",
     "text": [
      "/Library/Frameworks/Python.framework/Versions/3.6/lib/python3.6/site-packages/ipykernel_launcher.py:10: RuntimeWarning: overflow encountered in exp\n",
      "  # Remove the CWD from sys.path while we load stuff.\n"
     ]
    },
    {
     "data": {
      "text/plain": [
       "(5000, 10)"
      ]
     },
     "execution_count": 159,
     "metadata": {},
     "output_type": "execute_result"
    }
   ],
   "source": [
    "hogehoge = logistic_output_z2(X_1, int_w2) * int_theta2\n",
    "hogehoge.shape"
   ]
  },
  {
   "cell_type": "code",
   "execution_count": 103,
   "metadata": {},
   "outputs": [
    {
     "data": {
      "text/plain": [
       "(5000, 10)"
      ]
     },
     "execution_count": 103,
     "metadata": {},
     "output_type": "execute_result"
    }
   ],
   "source": [
    "hogehogehoge = np.dot(X_1, int_theta3)\n",
    "hogehogehoge.shape"
   ]
  },
  {
   "cell_type": "code",
   "execution_count": 32,
   "metadata": {},
   "outputs": [
    {
     "data": {
      "text/plain": [
       "array([[-3972.64347028,  1189.89971615,   668.08263398, ...,\n",
       "        -2190.1095023 ,  1003.6853455 ,   545.80396229],\n",
       "       [   19.87895425, -1160.83237475,   632.49546209, ...,\n",
       "          293.41462009,  -151.03558563,   -68.38270588],\n",
       "       [ -220.20907832,  -440.5234562 , -1788.59520754, ...,\n",
       "         -173.186085  ,   337.75713873,  1607.99147976],\n",
       "       ..., \n",
       "       [  651.22820589, -1112.51009486,   706.46515679, ...,\n",
       "          425.66494343, -1061.62670583,  1024.31732073],\n",
       "       [ -235.60793395,  -867.0659947 ,   469.36946344, ...,\n",
       "          132.15324004,   -86.54272486,  2029.33048831],\n",
       "       [-2581.60600894,  2591.90271526,  1342.2400317 , ...,\n",
       "        -3391.14242151,  2599.52918758,  -883.96485382]])"
      ]
     },
     "execution_count": 32,
     "metadata": {},
     "output_type": "execute_result"
    }
   ],
   "source": [
    "hoge + hogehoge + hogehogehoge"
   ]
  },
  {
   "cell_type": "code",
   "execution_count": 110,
   "metadata": {},
   "outputs": [
    {
     "name": "stderr",
     "output_type": "stream",
     "text": [
      "/Library/Frameworks/Python.framework/Versions/3.6/lib/python3.6/site-packages/ipykernel_launcher.py:10: RuntimeWarning: overflow encountered in exp\n",
      "  # Remove the CWD from sys.path while we load stuff.\n"
     ]
    }
   ],
   "source": [
    "z1 = linear_output_z1(X_1, int_w1)\n",
    "z2 = logistic_output_z2(X_1, int_w2)\n",
    "zf = logistic_output(X_1, z1, z2, int_theta1, int_theta2,int_theta3)\n",
    "p = sigmoid(zf)\n",
    "\n",
    "gradient_theta1 = gradient_c_theta1(z1, zf, y)"
   ]
  },
  {
   "cell_type": "code",
   "execution_count": 111,
   "metadata": {},
   "outputs": [
    {
     "data": {
      "text/plain": [
       "(1, 10)"
      ]
     },
     "execution_count": 111,
     "metadata": {},
     "output_type": "execute_result"
    }
   ],
   "source": [
    "gradient_theta1.shape"
   ]
  },
  {
   "cell_type": "code",
   "execution_count": null,
   "metadata": {
    "collapsed": true
   },
   "outputs": [],
   "source": []
  },
  {
   "cell_type": "code",
   "execution_count": null,
   "metadata": {
    "collapsed": true
   },
   "outputs": [],
   "source": []
  },
  {
   "cell_type": "code",
   "execution_count": null,
   "metadata": {},
   "outputs": [],
   "source": [
    "trainrate=np.random.uniform(0.01,0.01,1)\n",
    "z1 = linear_output_z1(X_1, int_w1)\n",
    "z2 = logistic_output_z2(X_1, int_w2)\n",
    "zf = logistic_output(X_1, z1, z2, int_theta1, int_theta2, int_theta3)"
   ]
  },
  {
   "cell_type": "code",
   "execution_count": null,
   "metadata": {},
   "outputs": [],
   "source": [
    "zf"
   ]
  },
  {
   "cell_type": "code",
   "execution_count": null,
   "metadata": {
    "collapsed": true
   },
   "outputs": [],
   "source": []
  }
 ],
 "metadata": {
  "kernelspec": {
   "display_name": "Python 3",
   "language": "python",
   "name": "python3"
  },
  "language_info": {
   "codemirror_mode": {
    "name": "ipython",
    "version": 3
   },
   "file_extension": ".py",
   "mimetype": "text/x-python",
   "name": "python",
   "nbconvert_exporter": "python",
   "pygments_lexer": "ipython3",
   "version": "3.6.1"
  }
 },
 "nbformat": 4,
 "nbformat_minor": 2
}
