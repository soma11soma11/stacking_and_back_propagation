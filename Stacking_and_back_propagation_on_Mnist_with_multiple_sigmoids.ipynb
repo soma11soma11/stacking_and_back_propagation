{
 "cells": [
  {
   "cell_type": "markdown",
   "metadata": {},
   "source": [
    "# Stacking and back propagation on Mnist with multiple sigmoids"
   ]
  },
  {
   "cell_type": "markdown",
   "metadata": {},
   "source": [
    "### import data"
   ]
  },
  {
   "cell_type": "code",
   "execution_count": 1,
   "metadata": {
    "collapsed": true
   },
   "outputs": [],
   "source": [
    "from sklearn.datasets import fetch_mldata\n",
    "import numpy as np\n",
    "from sklearn.utils import shuffle\n",
    "mnist = fetch_mldata('MNIST original', data_home=\".\")\n",
    "mnist.data, mnist.target = shuffle(mnist.data, mnist.target)\n",
    "X = mnist.data[0:5000]\n",
    "s = np.ones(X.shape[0])\n",
    "X_1 = np.hstack((X, s.reshape(len(s),1)))\n",
    "y_float = mnist.target[0:5000]\n",
    "y_int = y_float.astype(np.int64)\n",
    "y = np.eye(10)[y_int]\n",
    "N = X.shape[1]"
   ]
  },
  {
   "cell_type": "code",
   "execution_count": null,
   "metadata": {},
   "outputs": [],
   "source": []
  },
  {
   "cell_type": "markdown",
   "metadata": {},
   "source": [
    "### define function"
   ]
  },
  {
   "cell_type": "code",
   "execution_count": 2,
   "metadata": {
    "collapsed": true
   },
   "outputs": [],
   "source": [
    "def linear_output_z1(x, w1):\n",
    "    z1 = np.dot(x, w1)\n",
    "    return z1\n",
    "\n",
    "def logistic_output_z2(x, w2):\n",
    "    z2 = sigmoid(np.dot(x, w2))\n",
    "    return z2\n",
    "\n",
    "def sigmoid(a):\n",
    "    return 1.0 / (1.0 + np.exp(-a))"
   ]
  },
  {
   "cell_type": "markdown",
   "metadata": {},
   "source": [
    "### define gradient"
   ]
  },
  {
   "cell_type": "code",
   "execution_count": 3,
   "metadata": {},
   "outputs": [],
   "source": [
    "def logistic_output(x, z1, z2, theta1, theta2, theta3):\n",
    "    zf = (z1 * theta1) + (z2 * theta2) + np.array(np.dot(x, theta3))\n",
    "    return zf\n",
    "\n",
    "def gradient_c_theta1(z1, zf, y):\n",
    "    gradient = np.matmul(np.transpose(z1), (sigmoid(zf)-y)) / N\n",
    "    return gradient\n",
    "\n",
    "def gradient_c_theta2(z2, zf, y):\n",
    "    gradient = np.matmul(np.transpose(z2), (sigmoid(zf)-y)) / N\n",
    "    return gradient\n",
    "\n",
    "def gradient_c_theta3(x, zf, y):\n",
    "    gradient = np.matmul(np.transpose(x), (sigmoid(zf)-y)) / N\n",
    "    return gradient\n",
    "\n",
    "def gradient_c_w1(x, theta1, zf, y):\n",
    "    gradient = np.matmul(np.transpose(x), np.transpose(np.matmul(theta1, np.transpose(np.array((sigmoid(zf) - y)))))) / N\n",
    "    return gradient\n",
    "\n",
    "def gradient_c_w2(x, w2, theta2, zf, y):\n",
    "    elemsig = sigmoid(np.dot(x, w2)) # [5000, 1]\n",
    "    elem1=np.transpose(np.array(sigmoid(zf) - y)) # [10,5000]\n",
    "    elem2=np.matmul(theta2, elem1) # [1, 5000]\n",
    "    elem3=np.matmul(np.transpose(elemsig), np.transpose(elem2)) # [1,1]\n",
    "    elem4 = (elemsig* (1 - elem3)) # [5000,1]\n",
    "    gradient= np.matmul(np.transpose(x), elem4)/ N # [785,1]\n",
    "\n",
    "    return gradient\n"
   ]
  },
  {
   "cell_type": "markdown",
   "metadata": {},
   "source": [
    "### define gradient descent "
   ]
  },
  {
   "cell_type": "code",
   "execution_count": 74,
   "metadata": {},
   "outputs": [],
   "source": [
    "def gradient_descent(x, y, int_w1, int_w2, int_theta1, int_theta2, int_theta3, lowtrain, uptrain, iterations):\n",
    "\n",
    "    place_w1=int_w1\n",
    "    place_w2=int_w2\n",
    "    place_theta1=int_theta1\n",
    "    place_theta2=int_theta2\n",
    "    place_theta3=int_theta3\n",
    "\n",
    "    for i in range(iterations):\n",
    "        trainrate=np.random.uniform(lowtrain,uptrain,1)\n",
    "        z1 = linear_output_z1(x, place_w1)\n",
    "        z2 = logistic_output_z2(x, place_w2)\n",
    "        z2=np.dot(x,place_w2)\n",
    "        zf = logistic_output(x, z1, z2, place_theta1, place_theta2, place_theta3)\n",
    "        p = sigmoid(zf)\n",
    "\n",
    "        gradient_theta1 = gradient_c_theta1(z1, zf, y)\n",
    "        gradient_theta2 = gradient_c_theta2(z2, zf, y)\n",
    "        gradient_theta3 = gradient_c_theta3(x, zf, y)\n",
    "        gradient_w1 = gradient_c_w1(x, place_theta1, zf, y)\n",
    "        gradient_w2 = gradient_c_w2(x, place_w2, place_theta2, zf, y)\n",
    "        \n",
    "            \n",
    "        place_w1 = place_w1 - (trainrate * gradient_w1)\n",
    "        place_w2 = place_w2 - (trainrate * gradient_w2)\n",
    "        place_theta1 = place_theta1 - trainrate*gradient_theta1\n",
    "        place_theta2 = place_theta2 - trainrate*gradient_theta2\n",
    "        place_theta3 = place_theta3 - trainrate*gradient_theta3\n",
    "\n",
    "    \n",
    "    return  p, place_theta1, place_theta2, place_theta3, place_w1, place_w2\n"
   ]
  },
  {
   "cell_type": "markdown",
   "metadata": {},
   "source": [
    "### initialization"
   ]
  },
  {
   "cell_type": "code",
   "execution_count": 127,
   "metadata": {
    "scrolled": false
   },
   "outputs": [
    {
     "name": "stderr",
     "output_type": "stream",
     "text": [
      "/Library/Frameworks/Python.framework/Versions/3.6/lib/python3.6/site-packages/ipykernel_launcher.py:10: RuntimeWarning: overflow encountered in exp\n",
      "  # Remove the CWD from sys.path while we load stuff.\n"
     ]
    }
   ],
   "source": [
    "N_linear = 1\n",
    "M_logistic = 1\n",
    "\n",
    "# int_w1, int_w2 = np.random.uniform(-1,1,(X.shape[1]+1,N_linear)), np.random.uniform(-1,1,(X.shape[1]+1, M_logistic))\n",
    "# int_theta1, int_theta2, int_theta3 = np.random.uniform(-1,1,(N_linear,10)), np.random.uniform(-1,1,(M_logistic,10)),np.random.uniform(-1,1,(X.shape[1] + 1,10))\n",
    "int_w1 = result[4]\n",
    "int_w2 = result[5]\n",
    "int_theta1 = result[1]\n",
    "int_theta2 = result[2]\n",
    "int_theta3 = result[3]\n",
    "\n",
    "result = gradient_descent(X_1, y, int_w1, int_w2, int_theta1, int_theta2, int_theta3, 0.00000001, 0.0000001, 1000)"
   ]
  },
  {
   "cell_type": "code",
   "execution_count": 137,
   "metadata": {},
   "outputs": [
    {
     "data": {
      "text/plain": [
       "array([[ 0.05423276,  0.09086229, -0.30802961, -0.44445979, -0.41052024,\n",
       "        -0.04401048, -0.32951466,  0.48090006, -0.42377873, -0.77507225]])"
      ]
     },
     "execution_count": 137,
     "metadata": {},
     "output_type": "execute_result"
    }
   ],
   "source": [
    "result[1]"
   ]
  },
  {
   "cell_type": "code",
   "execution_count": 138,
   "metadata": {},
   "outputs": [
    {
     "data": {
      "text/plain": [
       "array([[-10.33797128,  -6.89970327,  -4.72162053, -10.55489808,\n",
       "         -3.32143013, -10.84287175,  -5.27814836, -10.02382195,\n",
       "         -4.22391811,  -2.68999257]])"
      ]
     },
     "execution_count": 138,
     "metadata": {},
     "output_type": "execute_result"
    }
   ],
   "source": [
    "result[2]"
   ]
  },
  {
   "cell_type": "code",
   "execution_count": 139,
   "metadata": {},
   "outputs": [
    {
     "data": {
      "text/plain": [
       "array([[ 0.53169173,  0.19318105,  0.67536041, ..., -0.37086208,\n",
       "         0.16278701,  0.30953829],\n",
       "       [ 0.56601556, -0.35782477, -0.83012092, ...,  0.98235626,\n",
       "        -0.81739907, -0.78477274],\n",
       "       [-0.02743481, -0.84095702,  0.46333047, ..., -0.76175268,\n",
       "         0.40764109,  0.93778363],\n",
       "       ..., \n",
       "       [ 0.67137672,  0.92356931,  0.18667619, ...,  0.42905763,\n",
       "         0.80128187, -0.17947101],\n",
       "       [-0.83029191,  0.16242591,  0.4616667 , ...,  0.75930326,\n",
       "        -0.84364951,  0.48989206],\n",
       "       [-0.83288963, -0.35011157,  0.28178261, ..., -0.9259662 ,\n",
       "         0.87142509, -0.71700001]])"
      ]
     },
     "execution_count": 139,
     "metadata": {},
     "output_type": "execute_result"
    }
   ],
   "source": [
    "result[3]"
   ]
  },
  {
   "cell_type": "code",
   "execution_count": null,
   "metadata": {
    "collapsed": true
   },
   "outputs": [],
   "source": []
  },
  {
   "cell_type": "code",
   "execution_count": null,
   "metadata": {
    "collapsed": true
   },
   "outputs": [],
   "source": []
  },
  {
   "cell_type": "code",
   "execution_count": 120,
   "metadata": {},
   "outputs": [
    {
     "data": {
      "text/plain": [
       "array([[ 0.08068534,  0.07487679, -0.31806324, -0.44227333, -0.41058022,\n",
       "        -0.03343121, -0.31973432,  0.47069851, -0.44189256, -0.77063395]])"
      ]
     },
     "execution_count": 120,
     "metadata": {},
     "output_type": "execute_result"
    }
   ],
   "source": [
    "result[1]"
   ]
  },
  {
   "cell_type": "code",
   "execution_count": 121,
   "metadata": {},
   "outputs": [
    {
     "data": {
      "text/plain": [
       "array([[ 0.06547867, -3.57284835, -0.77638974, -0.52041   ,  0.20548366,\n",
       "        -4.3363253 , -1.72088078,  0.09071168, -0.36075607, -2.91048008]])"
      ]
     },
     "execution_count": 121,
     "metadata": {},
     "output_type": "execute_result"
    }
   ],
   "source": [
    "result[2]"
   ]
  },
  {
   "cell_type": "code",
   "execution_count": 125,
   "metadata": {},
   "outputs": [
    {
     "data": {
      "text/plain": [
       "array([[ 0.29472873,  0.69212392,  0.19725828,  0.62747261, -0.68238557,\n",
       "        -0.51494253, -0.9280679 , -0.62327089,  0.40216484,  0.14923645]])"
      ]
     },
     "execution_count": 125,
     "metadata": {},
     "output_type": "execute_result"
    }
   ],
   "source": [
    "int_theta2"
   ]
  },
  {
   "cell_type": "code",
   "execution_count": 122,
   "metadata": {},
   "outputs": [
    {
     "data": {
      "text/plain": [
       "array([[ 0.53169173,  0.19318105,  0.67536041, ..., -0.37086208,\n",
       "         0.16278701,  0.30953829],\n",
       "       [ 0.56601556, -0.35782477, -0.83012092, ...,  0.98235626,\n",
       "        -0.81739907, -0.78477274],\n",
       "       [-0.02743481, -0.84095702,  0.46333047, ..., -0.76175268,\n",
       "         0.40764109,  0.93778363],\n",
       "       ..., \n",
       "       [ 0.67137672,  0.92356931,  0.18667619, ...,  0.42905763,\n",
       "         0.80128187, -0.17947101],\n",
       "       [-0.83029191,  0.16242591,  0.4616667 , ...,  0.75930326,\n",
       "        -0.84364951,  0.48989206],\n",
       "       [-0.83288335, -0.35012391,  0.28178581, ..., -0.92596953,\n",
       "         0.87143226, -0.71699999]])"
      ]
     },
     "execution_count": 122,
     "metadata": {},
     "output_type": "execute_result"
    }
   ],
   "source": [
    "result[3]"
   ]
  },
  {
   "cell_type": "code",
   "execution_count": 126,
   "metadata": {},
   "outputs": [
    {
     "data": {
      "text/plain": [
       "array([[ 0.53169173,  0.19318105,  0.67536041, ..., -0.37086208,\n",
       "         0.16278701,  0.30953829],\n",
       "       [ 0.56601556, -0.35782477, -0.83012092, ...,  0.98235626,\n",
       "        -0.81739907, -0.78477274],\n",
       "       [-0.02743481, -0.84095702,  0.46333047, ..., -0.76175268,\n",
       "         0.40764109,  0.93778363],\n",
       "       ..., \n",
       "       [ 0.67137672,  0.92356931,  0.18667619, ...,  0.42905763,\n",
       "         0.80128187, -0.17947101],\n",
       "       [-0.83029191,  0.16242591,  0.4616667 , ...,  0.75930326,\n",
       "        -0.84364951,  0.48989206],\n",
       "       [-0.83281339, -0.35022602,  0.2818387 , ..., -0.92600112,\n",
       "         0.87151344, -0.71698915]])"
      ]
     },
     "execution_count": 126,
     "metadata": {},
     "output_type": "execute_result"
    }
   ],
   "source": [
    "int_theta3"
   ]
  },
  {
   "cell_type": "code",
   "execution_count": null,
   "metadata": {
    "collapsed": true
   },
   "outputs": [],
   "source": []
  },
  {
   "cell_type": "code",
   "execution_count": null,
   "metadata": {
    "collapsed": true
   },
   "outputs": [],
   "source": []
  }
 ],
 "metadata": {
  "kernelspec": {
   "display_name": "Python 3",
   "language": "python",
   "name": "python3"
  },
  "language_info": {
   "codemirror_mode": {
    "name": "ipython",
    "version": 3
   },
   "file_extension": ".py",
   "mimetype": "text/x-python",
   "name": "python",
   "nbconvert_exporter": "python",
   "pygments_lexer": "ipython3",
   "version": "3.6.1"
  }
 },
 "nbformat": 4,
 "nbformat_minor": 2
}
