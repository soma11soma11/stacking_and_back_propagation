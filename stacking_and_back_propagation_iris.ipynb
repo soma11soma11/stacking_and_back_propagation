{
 "cells": [
  {
   "cell_type": "markdown",
   "metadata": {},
   "source": [
    "# Stacking and back propagation"
   ]
  },
  {
   "cell_type": "markdown",
   "metadata": {},
   "source": [
    "### import data"
   ]
  },
  {
   "cell_type": "code",
   "execution_count": 1,
   "metadata": {
    "collapsed": true
   },
   "outputs": [],
   "source": [
    "import pandas as pd\n",
    "import numpy as np\n",
    "data = pd.read_csv(\"iris.csv\")\n",
    "data = data[:100]\n",
    "N = data.shape[0]\n",
    "\n",
    "list_species=[]\n",
    "for i in range(len(data.index)):\n",
    "    x = data[\"species\"][i]\n",
    "    if x not in list_species:\n",
    "        list_species.append(x)\n",
    "data[\"species\"] =data[\"species\"].replace(to_replace=list_species, value=range(len(list_species)))\n",
    "\n",
    "X = data.drop(\"species\", 1)\n",
    "y = data[\"species\"]"
   ]
  },
  {
   "cell_type": "markdown",
   "metadata": {},
   "source": [
    "## Define Z1 Linear regression"
   ]
  },
  {
   "cell_type": "markdown",
   "metadata": {},
   "source": [
    "### define gradient"
   ]
  },
  {
   "cell_type": "code",
   "execution_count": 95,
   "metadata": {},
   "outputs": [],
   "source": [
    "def linear_output_z1(x, w1, b1):\n",
    "    z1 = np.dot(x, w1) + b1\n",
    "    return z1\n",
    "\n",
    "def sigmoid(a):\n",
    "    return 1.0 / (1.0 + np.exp(-a))\n",
    "\n",
    "def logistic_output_z2(x, w2, b2):\n",
    "    z2 = sigmoid(np.dot(x, w2) + b2)\n",
    "    return z2\n",
    "\n",
    "def logistic_output(x, z1, z2, theta0, theta1, theta2, theta3):\n",
    "    zf = theta0 + (z1 * theta1) + (z2 * theta2) + np.array(np.dot(x, theta3))\n",
    "    return zf\n",
    "\n",
    "def gradient_c_theta0(zf, y):\n",
    "    gradient = sum(sigmoid(zf)-y) / N\n",
    "    return gradient\n",
    "\n",
    "def gradient_c_theta1(z1, zf, y):\n",
    "    gradient = np.matmul(z1, (sigmoid(zf)-y)) / N\n",
    "    return gradient\n",
    "\n",
    "def gradient_c_theta2(z2, zf, y):\n",
    "    gradient = np.matmul(z2, (sigmoid(zf)-y)) / N\n",
    "    return gradient\n",
    "\n",
    "def gradient_c_theta3(x, zf, y):\n",
    "    gradient = np.matmul(np.transpose(x), (sigmoid(zf)-y)) / N\n",
    "    return gradient\n",
    "\n",
    "def gradient_c_w1(x, theta1, zf, y):\n",
    "    gradient = np.matmul (np.transpose(x), theta1 * np.array((sigmoid(zf) - y))) / N\n",
    "    return gradient\n",
    "\n",
    "def gradient_c_b1(theta1, zf, y):\n",
    "    gradient = sum(theta1 * np.array((sigmoid(zf) - y))) / N\n",
    "    return gradient\n",
    "\n",
    "def gradient_c_w2(x, w2, b2, theta2, zf, y):\n",
    "    gradient= np.matmul(np.transpose(x), sigmoid(np.dot(x, w2) + b2) * (1 - sigmoid(np.dot(x, w2) + b2)) * (theta2 * np.array((sigmoid(zf) - y)))) / N\n",
    "    return gradient\n",
    "\n",
    "def gradient_c_b2(x, w2, b2, theta2, zf, y):\n",
    "    gradient = sum (sigmoid(np.dot(x, w2) + b2) * (1 - sigmoid(np.dot(x, w2) + b2)) * (theta2 * np.array((sigmoid(zf) - y)))) / N\n",
    "    return gradient"
   ]
  },
  {
   "cell_type": "markdown",
   "metadata": {},
   "source": [
    "### gradient descent"
   ]
  },
  {
   "cell_type": "code",
   "execution_count": 250,
   "metadata": {},
   "outputs": [],
   "source": [
    "def gradient_descent(x, y, int_w1, int_w2, int_b1, int_b2, int_theta0, int_theta1, int_theta2, int_theta3, lowtrain, uptrain, iterations):\n",
    "    place_w1=int_w1\n",
    "    place_w2=int_w2\n",
    "    place_b1=int_b1\n",
    "    place_b2=int_b2\n",
    "    place_theta0=int_theta0\n",
    "    place_theta1=int_theta1\n",
    "    place_theta2=int_theta2\n",
    "    place_theta3=int_theta3\n",
    "    for i in range(iterations):\n",
    "        trainrate=np.random.uniform(lowtrain,uptrain,1)\n",
    "        z1 = linear_output_z1(x, place_w1, place_b1)\n",
    "        z2 = logistic_output_z2(x, place_w2, place_b2)\n",
    "        zf = logistic_output(x, z1, z2, place_theta0, place_theta1, place_theta2, place_theta3)\n",
    "        p = sigmoid(zf)\n",
    "        gradient_theta0 = gradient_c_theta0(zf, y)\n",
    "        gradient_theta1 = gradient_c_theta1(z1, zf, y)\n",
    "        gradient_theta2 = gradient_c_theta2(z2, zf, y)\n",
    "        gradient_theta3 = gradient_c_theta3(x, zf, y)\n",
    "        gradient_w1 = gradient_c_w1(x, int_theta1, zf, y)\n",
    "        gradient_w2 = gradient_c_w2(x, int_w2, int_b2, int_theta2, zf, y)\n",
    "        gradient_b1 = gradient_c_b1(int_theta1, zf, y)\n",
    "        gradient_b2 = gradient_c_b2(x, int_w2, int_b2, int_theta2, zf, y)\n",
    "        place_w1 = place_w1 - trainrate * gradient_w1\n",
    "        place_w2 = place_w2 - trainrate * gradient_w2\n",
    "        place_b1 = place_b1 - trainrate * gradient_b1\n",
    "        place_b2 = place_b2 - trainrate * gradient_b2\n",
    "        place_theta0 = place_theta0 - trainrate * gradient_theta0\n",
    "        place_theta1 = place_theta1 - trainrate * gradient_theta1\n",
    "        place_theta2 = place_theta2 - trainrate * gradient_theta2\n",
    "        place_theta3 = place_theta3 - trainrate * gradient_theta3\n",
    "        \n",
    "    \n",
    "    return p, zf, z1, z2, place_w1, place_w2, place_b1, place_b2, place_theta0, place_theta1, place_theta2, place_theta3"
   ]
  },
  {
   "cell_type": "code",
   "execution_count": 252,
   "metadata": {},
   "outputs": [],
   "source": [
    "int_w1, int_w2, int_b1, int_b2 = np.random.uniform(-1,1,4), np.random.uniform(-1,1,4), np.random.uniform(-1,1,1), np.random.uniform(-1,1,1)\n",
    "int_theta0, int_theta1, int_theta2, int_theta3 = 1, 0, -1, np.array([1,-1,2,4])\n",
    "p = gradient_descent(X, y, int_w1, int_w2, int_b1, int_b2, int_theta0, int_theta1, int_theta2, int_theta3, 0.01, 0.01, 1000)[0]"
   ]
  },
  {
   "cell_type": "code",
   "execution_count": 256,
   "metadata": {},
   "outputs": [
    {
     "name": "stdout",
     "output_type": "stream",
     "text": [
      "rmse of stacking and neuron is\n",
      "0.000529436545406\n"
     ]
    }
   ],
   "source": [
    "from sklearn.metrics import mean_squared_error\n",
    "y_true = np.array(y)\n",
    "rmse_stack_neuron = mean_squared_error(y_true, p)\n",
    "print (\"rmse of stacking and neuron is\")\n",
    "print (rmse_stack_neuron)"
   ]
  },
  {
   "cell_type": "code",
   "execution_count": 254,
   "metadata": {},
   "outputs": [
    {
     "data": {
      "text/plain": [
       "array([0, 0, 0, 0, 0, 0, 0, 0, 0, 0, 0, 0, 0, 0, 0, 0, 0, 0, 0, 0, 0, 0, 0,\n",
       "       0, 0, 0, 0, 0, 0, 0, 0, 0, 0, 0, 0, 0, 0, 0, 0, 0, 0, 0, 0, 0, 0, 0,\n",
       "       0, 0, 0, 0, 1, 1, 1, 1, 1, 1, 1, 1, 1, 1, 1, 1, 1, 1, 1, 1, 1, 1, 1,\n",
       "       1, 1, 1, 1, 1, 1, 1, 1, 1, 1, 1, 1, 1, 1, 1, 1, 1, 1, 1, 1, 1, 1, 1,\n",
       "       1, 1, 1, 1, 1, 1, 1, 1])"
      ]
     },
     "execution_count": 254,
     "metadata": {},
     "output_type": "execute_result"
    }
   ],
   "source": [
    "y_true"
   ]
  },
  {
   "cell_type": "code",
   "execution_count": null,
   "metadata": {
    "collapsed": true
   },
   "outputs": [],
   "source": []
  },
  {
   "cell_type": "code",
   "execution_count": null,
   "metadata": {
    "collapsed": true
   },
   "outputs": [],
   "source": []
  }
 ],
 "metadata": {
  "kernelspec": {
   "display_name": "Python 3",
   "language": "python",
   "name": "python3"
  },
  "language_info": {
   "codemirror_mode": {
    "name": "ipython",
    "version": 3
   },
   "file_extension": ".py",
   "mimetype": "text/x-python",
   "name": "python",
   "nbconvert_exporter": "python",
   "pygments_lexer": "ipython3",
   "version": "3.6.1"
  }
 },
 "nbformat": 4,
 "nbformat_minor": 2
}
