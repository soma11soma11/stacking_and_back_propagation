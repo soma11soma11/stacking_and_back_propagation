{
 "cells": [
  {
   "cell_type": "markdown",
   "metadata": {},
   "source": [
    "# Stack Neuron"
   ]
  },
  {
   "cell_type": "markdown",
   "metadata": {},
   "source": [
    "### Import Data"
   ]
  },
  {
   "cell_type": "code",
   "execution_count": 51,
   "metadata": {
    "collapsed": true
   },
   "outputs": [],
   "source": [
    "import pandas as pd\n",
    "import numpy as np\n",
    "data = pd.read_csv(\"iris.csv\")\n",
    "data = data[:100]\n",
    "N = data.shape[0]\n",
    "\n",
    "list_species=[]\n",
    "for i in range(len(data.index)):\n",
    "    x = data[\"species\"][i]\n",
    "    if x not in list_species:\n",
    "        list_species.append(x)\n",
    "data[\"species\"] =data[\"species\"].replace(to_replace=list_species, value=range(len(list_species)))\n",
    "\n",
    "X = data.drop(\"species\", 1)\n",
    "y = data[\"species\"]"
   ]
  },
  {
   "cell_type": "markdown",
   "metadata": {},
   "source": [
    "# Logistic Regresion"
   ]
  },
  {
   "cell_type": "markdown",
   "metadata": {},
   "source": [
    "#### initialize w and b"
   ]
  },
  {
   "cell_type": "code",
   "execution_count": 52,
   "metadata": {
    "collapsed": true
   },
   "outputs": [],
   "source": [
    "w_logistic, b_logistic = np.zeros(4), 0"
   ]
  },
  {
   "cell_type": "markdown",
   "metadata": {},
   "source": [
    "#### sigmoid"
   ]
  },
  {
   "cell_type": "code",
   "execution_count": 53,
   "metadata": {
    "collapsed": true
   },
   "outputs": [],
   "source": [
    "def sigmoid(a):\n",
    "    return 1.0 / (1.0 + np.exp(-a))"
   ]
  },
  {
   "cell_type": "markdown",
   "metadata": {},
   "source": [
    "#### gradient "
   ]
  },
  {
   "cell_type": "code",
   "execution_count": 54,
   "metadata": {
    "collapsed": true
   },
   "outputs": [],
   "source": [
    "def grad_logistic(x, w, b):\n",
    "    sig = sigmoid(np.dot(x, w) + b)\n",
    "    w_gradient = np.multiply(x, ((1-sig))[:, np.newaxis])\n",
    "    b_gradient = ((1-sig))\n",
    "    return w_gradient, b_gradient"
   ]
  },
  {
   "cell_type": "markdown",
   "metadata": {},
   "source": [
    "#### cross entropy and grad"
   ]
  },
  {
   "cell_type": "code",
   "execution_count": 55,
   "metadata": {
    "collapsed": true
   },
   "outputs": [],
   "source": [
    "def cross_entropy_grad(x, w, b, y):\n",
    "    w_gradient, b_gradient = grad_logistic(x, w, b)\n",
    "    c_w_gradient = np.matmul(np.transpose(sigmoid(np.dot(x, w) + b)-y), x) /N\n",
    "    c_b_gradient = sum(np.transpose(sigmoid(np.dot(x, w) + b)-y)) /N\n",
    "    return c_w_gradient, c_b_gradient\n",
    "\n",
    "def cross_entropy(y_pred, y):\n",
    "    cross_entropy = -(1/N) * sum ((y * np.log(y_pred)) + (1-y) * np.log(1 - y_pred) )\n",
    "    return cross_entropy"
   ]
  },
  {
   "cell_type": "markdown",
   "metadata": {},
   "source": [
    "#### Stochastic Gradient Descent"
   ]
  },
  {
   "cell_type": "code",
   "execution_count": 56,
   "metadata": {
    "collapsed": true
   },
   "outputs": [],
   "source": [
    "def sgd_logistic(x, initial_w, initial_b, lowtrain, uptrain, iterations):\n",
    "    place_w = initial_w\n",
    "    place_b = initial_b\n",
    "    for i in range(iterations):\n",
    "        trainrate=np.random.uniform(lowtrain,uptrain,1)\n",
    "        c_w_place, c_b_place = cross_entropy_grad(x,place_w,place_b, y)\n",
    "        place_w = place_w - trainrate * c_w_place\n",
    "        place_b = place_b - trainrate * c_b_place\n",
    "    y_pred = sigmoid(np.dot(x, place_w) + place_b)\n",
    "    ce = cross_entropy(y_pred, y)\n",
    "    return place_w, place_b, ce, y_pred"
   ]
  },
  {
   "cell_type": "markdown",
   "metadata": {},
   "source": [
    "### check the accuracy"
   ]
  },
  {
   "cell_type": "markdown",
   "metadata": {},
   "source": [
    "#### shuffling instances"
   ]
  },
  {
   "cell_type": "code",
   "execution_count": 57,
   "metadata": {
    "collapsed": true
   },
   "outputs": [],
   "source": [
    "indexer = np.arange(X.shape[0])\n",
    "np.random.shuffle(indexer)\n",
    "X = X.iloc[indexer, ]\n",
    "y = y.iloc[indexer, ]"
   ]
  },
  {
   "cell_type": "code",
   "execution_count": 61,
   "metadata": {},
   "outputs": [
    {
     "name": "stdout",
     "output_type": "stream",
     "text": [
      "rmse of original logistic regression is\n",
      "0.000162506167431\n"
     ]
    }
   ],
   "source": [
    "from sklearn.metrics import mean_squared_error\n",
    "y_pred = sgd_logistic(X, w_logistic, b_logistic, 0.01, 0.01, 10000)[3]\n",
    "y_true = np.array(y)\n",
    "rmse_original_logistic = mean_squared_error(y_true, y_pred)\n",
    "print (\"rmse of original logistic regression is\")\n",
    "print (rmse_original_logistic)"
   ]
  },
  {
   "cell_type": "code",
   "execution_count": 62,
   "metadata": {
    "scrolled": true
   },
   "outputs": [
    {
     "name": "stdout",
     "output_type": "stream",
     "text": [
      "rmse of sckit logistic regression is\n",
      "0.00104559004721\n"
     ]
    }
   ],
   "source": [
    "from sklearn.linear_model import LogisticRegression\n",
    "clf = LogisticRegression()\n",
    "clf.fit(X, y)\n",
    "y_pred_sckit_logistic = clf.predict_proba(X)[:,1]\n",
    "rmse_sckit_logistic = mean_squared_error(y_true, y_pred_sckit_logistic)\n",
    "print (\"rmse of sckit logistic regression is\")\n",
    "print (rmse_sckit_logistic)"
   ]
  },
  {
   "cell_type": "markdown",
   "metadata": {
    "collapsed": true
   },
   "source": [
    "# Polynomial Regression"
   ]
  },
  {
   "cell_type": "markdown",
   "metadata": {},
   "source": [
    "#### initialize w and b"
   ]
  },
  {
   "cell_type": "code",
   "execution_count": 42,
   "metadata": {
    "collapsed": true
   },
   "outputs": [],
   "source": [
    "w1_, w2, b = np.zeros(4), np.zeros(4), 0\n",
    "x2 = np.multiply(X, X)"
   ]
  },
  {
   "cell_type": "markdown",
   "metadata": {},
   "source": [
    "#### gradient"
   ]
  },
  {
   "cell_type": "code",
   "execution_count": 43,
   "metadata": {
    "collapsed": true
   },
   "outputs": [],
   "source": [
    "def grad_polynomial(x, w1, w2, b, y):\n",
    "    w1_gradient = np.matmul(np.transpose(np.dot(x, w1) + b + np.dot(x2, w2) -y), x) /N\n",
    "    w2_gradient = np.matmul(np.transpose(np.dot(x, w1) + b + np.dot(x2, w2) -y), x2) /N\n",
    "    b_gradient = sum(np.transpose(np.dot(x, w1) + b + np.dot(x2, w2) - y)) /N\n",
    "    return w1_gradient, w2_gradient, b_gradient"
   ]
  },
  {
   "cell_type": "code",
   "execution_count": 44,
   "metadata": {},
   "outputs": [
    {
     "data": {
      "text/plain": [
       "(array([-2.968, -1.385, -2.13 , -0.663]),\n",
       " array([-17.7486,  -3.8847,  -9.182 ,  -0.8983]),\n",
       " -0.5)"
      ]
     },
     "execution_count": 44,
     "metadata": {},
     "output_type": "execute_result"
    }
   ],
   "source": [
    "grad_polynomial(X, w1, w2, b, y)"
   ]
  },
  {
   "cell_type": "markdown",
   "metadata": {},
   "source": [
    "#### Stochastic Gradient"
   ]
  },
  {
   "cell_type": "code",
   "execution_count": 45,
   "metadata": {
    "collapsed": true
   },
   "outputs": [],
   "source": [
    "def sgd_poly(x, initial_w1, initial_w2, initial_b, lowtrain, uptrain, iterations):\n",
    "    place_w1 = initial_w1\n",
    "    place_w2 = initial_w2\n",
    "    place_b = initial_b\n",
    "    for i in range(iterations):\n",
    "        trainrate=np.random.uniform(lowtrain,uptrain,1)\n",
    "        c_w1_place, c_w2_place, c_b_place = grad_polynomial(x, place_w1, place_w2, place_b, y)\n",
    "        place_w1 = place_w1 - trainrate * c_w1_place\n",
    "        place_w2 = place_w2 - trainrate * c_w2_place\n",
    "        place_b = place_b - trainrate * c_b_place\n",
    "    y_pred = np.dot(x, place_w1) + np.dot(x2, place_w2) + place_b\n",
    "    return place_w1, place_w2, place_b, y_pred"
   ]
  },
  {
   "cell_type": "markdown",
   "metadata": {},
   "source": [
    "### check the accuracy"
   ]
  },
  {
   "cell_type": "markdown",
   "metadata": {},
   "source": [
    "#### shuffling instances"
   ]
  },
  {
   "cell_type": "code",
   "execution_count": 46,
   "metadata": {
    "collapsed": true
   },
   "outputs": [],
   "source": [
    "indexer = np.arange(X.shape[0])\n",
    "np.random.shuffle(indexer)\n",
    "X = X.iloc[indexer, ]\n",
    "y = y.iloc[indexer, ]"
   ]
  },
  {
   "cell_type": "code",
   "execution_count": 47,
   "metadata": {},
   "outputs": [
    {
     "name": "stdout",
     "output_type": "stream",
     "text": [
      "rmse of original polynomial regression is\n",
      "0.0315617589377\n"
     ]
    }
   ],
   "source": [
    "from sklearn.metrics import mean_squared_error\n",
    "y_pred = sgd_poly(X, w1, w2, b, 0.000001, 0.0001,10000)[3]\n",
    "y_true = np.array(y)\n",
    "rmse_original_logistic = mean_squared_error(y_true, y_pred)\n",
    "print (\"rmse of original polynomial regression is\")\n",
    "print (rmse_original_logistic)"
   ]
  },
  {
   "cell_type": "markdown",
   "metadata": {},
   "source": [
    "# Stacking "
   ]
  },
  {
   "cell_type": "code",
   "execution_count": null,
   "metadata": {
    "collapsed": true
   },
   "outputs": [],
   "source": []
  },
  {
   "cell_type": "code",
   "execution_count": null,
   "metadata": {
    "collapsed": true
   },
   "outputs": [],
   "source": []
  }
 ],
 "metadata": {
  "kernelspec": {
   "display_name": "Python 3",
   "language": "python",
   "name": "python3"
  },
  "language_info": {
   "codemirror_mode": {
    "name": "ipython",
    "version": 3
   },
   "file_extension": ".py",
   "mimetype": "text/x-python",
   "name": "python",
   "nbconvert_exporter": "python",
   "pygments_lexer": "ipython3",
   "version": "3.6.1"
  }
 },
 "nbformat": 4,
 "nbformat_minor": 2
}
