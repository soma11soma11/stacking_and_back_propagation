{
 "cells": [
  {
   "cell_type": "markdown",
   "metadata": {},
   "source": [
    "# Stack Neuron"
   ]
  },
  {
   "cell_type": "markdown",
   "metadata": {},
   "source": [
    "### Import Data"
   ]
  },
  {
   "cell_type": "code",
   "execution_count": 3,
   "metadata": {
    "collapsed": true
   },
   "outputs": [],
   "source": [
    "import pandas as pd\n",
    "import numpy as np\n",
    "data = pd.read_csv(\"iris.csv\")\n",
    "data = data[:100]\n",
    "N = data.shape[0]\n",
    "\n",
    "list_species=[]\n",
    "for i in range(len(data.index)):\n",
    "    x = data[\"species\"][i]\n",
    "    if x not in list_species:\n",
    "        list_species.append(x)\n",
    "data[\"species\"] =data[\"species\"].replace(to_replace=list_species, value=range(len(list_species)))\n",
    "\n",
    "X = data.drop(\"species\", 1)\n",
    "y = data[\"species\"]"
   ]
  },
  {
   "cell_type": "markdown",
   "metadata": {},
   "source": [
    "## Logistic Regresion"
   ]
  },
  {
   "cell_type": "markdown",
   "metadata": {},
   "source": [
    "#### initialize w and b"
   ]
  },
  {
   "cell_type": "code",
   "execution_count": 4,
   "metadata": {},
   "outputs": [],
   "source": [
    "w, b = np.zeros(4), 0"
   ]
  },
  {
   "cell_type": "markdown",
   "metadata": {},
   "source": [
    "#### sigmoid"
   ]
  },
  {
   "cell_type": "code",
   "execution_count": 5,
   "metadata": {
    "collapsed": true
   },
   "outputs": [],
   "source": [
    "def sigmoid(a):\n",
    "    return 1.0 / (1.0 + np.exp(-a))"
   ]
  },
  {
   "cell_type": "markdown",
   "metadata": {},
   "source": [
    "#### gradient "
   ]
  },
  {
   "cell_type": "code",
   "execution_count": 23,
   "metadata": {
    "collapsed": true
   },
   "outputs": [],
   "source": [
    "def grad(x, w, b):\n",
    "    sig = sigmoid(np.dot(x, w) + b)\n",
    "    w_gradient = np.multiply(x, ((1-sig))[:, np.newaxis])\n",
    "    b_gradient = ((1-sig))\n",
    "    return w_gradient, b_gradient"
   ]
  },
  {
   "cell_type": "markdown",
   "metadata": {},
   "source": [
    "#### cross entropy and grad"
   ]
  },
  {
   "cell_type": "code",
   "execution_count": 47,
   "metadata": {},
   "outputs": [],
   "source": [
    "def cross_entropy_grad(x, w, b):\n",
    "    w_gradient, b_gradient = grad(x, w, b)\n",
    "    c_w_gradient = np.matmul(np.transpose(y), w_gradient) / -N\n",
    "    c_b_gradient = np.matmul(np.transpose(y), b_gradient) / -N\n",
    "    return c_w_gradient, c_b_gradient\n",
    "\n",
    "def cross_entropy(y_pred, y):\n",
    "    cross_entropy = -(1/N)*sum (y * np.log(y_pred))\n",
    "    return cross_entropy"
   ]
  },
  {
   "cell_type": "markdown",
   "metadata": {},
   "source": [
    "#### Stochastic Gradient Descent"
   ]
  },
  {
   "cell_type": "code",
   "execution_count": 48,
   "metadata": {},
   "outputs": [],
   "source": [
    "def sgd(x, initial_w, initial_b, lowtrain, uptrain, iterations):\n",
    "    place_w = initial_w\n",
    "    place_b = initial_b\n",
    "    for i in range(iterations):\n",
    "        trainrate=np.random.uniform(lowtrain,uptrain,1)\n",
    "        c_w_place, c_b_place = cross_entropy_grad(x,place_w,place_b)\n",
    "        place_w = place_w + trainrate * c_w_place\n",
    "        place_b = place_b + trainrate * c_b_place\n",
    "    ce = cross_entropy(sigmoid(np.dot(x, place_w) + place_b), y)\n",
    "    return place_w, place_b, ce"
   ]
  },
  {
   "cell_type": "markdown",
   "metadata": {},
   "source": [
    "#### shuffling instances"
   ]
  },
  {
   "cell_type": "code",
   "execution_count": null,
   "metadata": {
    "collapsed": true
   },
   "outputs": [],
   "source": [
    "indexer = np.arange(X.shape[0])\n",
    "np.random.shuffle(indexer)\n",
    "x = X.iloc[indexer, ]\n",
    "y = y.iloc[indexer, ]"
   ]
  },
  {
   "cell_type": "code",
   "execution_count": 49,
   "metadata": {},
   "outputs": [
    {
     "data": {
      "text/plain": [
       "(array([-0.47080094, -0.21976668, -0.33642984, -0.10453174]),\n",
       " array([-0.08053726]),\n",
       " 2.5313769272408893)"
      ]
     },
     "execution_count": 49,
     "metadata": {},
     "output_type": "execute_result"
    }
   ],
   "source": [
    "sgd(X, w, b, 0.05, 0.05, 100)"
   ]
  },
  {
   "cell_type": "code",
   "execution_count": null,
   "metadata": {},
   "outputs": [],
   "source": []
  },
  {
   "cell_type": "markdown",
   "metadata": {},
   "source": []
  },
  {
   "cell_type": "code",
   "execution_count": null,
   "metadata": {},
   "outputs": [],
   "source": []
  },
  {
   "cell_type": "code",
   "execution_count": null,
   "metadata": {},
   "outputs": [],
   "source": []
  },
  {
   "cell_type": "code",
   "execution_count": null,
   "metadata": {
    "collapsed": true
   },
   "outputs": [],
   "source": []
  },
  {
   "cell_type": "code",
   "execution_count": null,
   "metadata": {
    "collapsed": true
   },
   "outputs": [],
   "source": []
  }
 ],
 "metadata": {
  "kernelspec": {
   "display_name": "Python 3",
   "language": "python",
   "name": "python3"
  },
  "language_info": {
   "codemirror_mode": {
    "name": "ipython",
    "version": 3
   },
   "file_extension": ".py",
   "mimetype": "text/x-python",
   "name": "python",
   "nbconvert_exporter": "python",
   "pygments_lexer": "ipython3",
   "version": "3.6.1"
  }
 },
 "nbformat": 4,
 "nbformat_minor": 2
}
