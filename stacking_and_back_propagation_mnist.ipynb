{
 "cells": [
  {
   "cell_type": "markdown",
   "metadata": {},
   "source": [
    "# Stacking and back propagation on Mnist"
   ]
  },
  {
   "cell_type": "markdown",
   "metadata": {},
   "source": [
    "### import data"
   ]
  },
  {
   "cell_type": "code",
   "execution_count": 108,
   "metadata": {},
   "outputs": [],
   "source": [
    "from sklearn.datasets import fetch_mldata\n",
    "import numpy as np\n",
    "mnist = fetch_mldata('MNIST original', data_home=\".\")\n",
    "X = mnist.data\n",
    "s = np.ones(X.shape[0])\n",
    "# X_1 = np.hstack((X, s.reshape(len(s),1)))\n",
    "y_float = mnist.target\n",
    "y_int = y_float.astype(np.int64)\n",
    "y = np.eye(10)[y_int]"
   ]
  },
  {
   "cell_type": "markdown",
   "metadata": {},
   "source": [
    "### define gradient"
   ]
  },
  {
   "cell_type": "code",
   "execution_count": null,
   "metadata": {},
   "outputs": [],
   "source": [
    "def linear_output_z1(x, w1, b1):\n",
    "    z1 = np.dot(x, w1) + b1\n",
    "    return z1\n",
    "\n",
    "def logistic_output_z2(x, w2, b2):\n",
    "    z2 = softmax(np.dot(x, w2) + b2)\n",
    "    return z2"
   ]
  },
  {
   "cell_type": "markdown",
   "metadata": {},
   "source": [
    "### define gradient"
   ]
  },
  {
   "cell_type": "code",
   "execution_count": 119,
   "metadata": {
    "scrolled": true
   },
   "outputs": [],
   "source": [
    "def gradient_c_theta(z, zf, y):\n",
    "    gradient = np.matmul(Z, softmax((Z)-y)) / N\n",
    "    return gradient\n",
    "\n",
    "def gradient_c_w(x, w, theta, zf, y):\n",
    "    gradient= np.matmul(np.transpose(x), sigmoid(np.dot(x, w2) + b2) * (1 - sigmoid(np.dot(x, w2) + b2)) * (theta2 * np.array((sigmoid(zf) - y)))) / N\n",
    "    return gradient\n",
    "\n",
    "def softmax(zf):\n",
    "    e_x = np.exp(x - np.max(x))\n",
    "    return e_x / e_x.sum(axis=0)\n",
    "\n",
    "def gradient_softmax(z):\n",
    "    gradient =  X * np.multiply(softmax(z), (np.identity(10) - softmax(z)))\n",
    "    return gradient\n",
    "    \n",
    "def gradient_c_beta(x, y, z):\n",
    "    gradient = np.multiply(x, y) * np.matmul(y, (np.indentity(10) - softmax(z)))\n",
    "    return gradient \n",
    "\n",
    "def gradient_c_b(z, y, beta):\n",
    "    gradient = np.matmul(Z, y) - np.mamul(z, np.multiply(y, softmax(z)))\n",
    "    return gradient"
   ]
  },
  {
   "cell_type": "code",
   "execution_count": null,
   "metadata": {
    "collapsed": true
   },
   "outputs": [],
   "source": []
  },
  {
   "cell_type": "markdown",
   "metadata": {},
   "source": [
    "### gradient descent"
   ]
  },
  {
   "cell_type": "code",
   "execution_count": 94,
   "metadata": {},
   "outputs": [],
   "source": [
    "def gradient_descent(x, y, int_w1, int_w2, int_b1, int_b2, int_theta0, int_theta1, int_theta2, int_theta3, lowtrain, uptrain, iterations):\n",
    "    z1 = linear_output_z1(x, place_w1, place_b1)\n",
    "    z2 = logistic_output_z2(x, place_w2, place_b2)\n",
    "    Z = np.c_[X, z1, z2, s]\n",
    "    zf = softmax(logistic_output(Z, theta))\n",
    "    gradient_theta = gradient_c_theta(Z, zf, y)"
   ]
  },
  {
   "cell_type": "code",
   "execution_count": 117,
   "metadata": {},
   "outputs": [
    {
     "data": {
      "text/plain": [
       "8"
      ]
     },
     "execution_count": 117,
     "metadata": {},
     "output_type": "execute_result"
    }
   ],
   "source": [
    "np.kron(2, 4)"
   ]
  },
  {
   "cell_type": "code",
   "execution_count": null,
   "metadata": {},
   "outputs": [],
   "source": []
  },
  {
   "cell_type": "code",
   "execution_count": null,
   "metadata": {
    "collapsed": true
   },
   "outputs": [],
   "source": []
  }
 ],
 "metadata": {
  "kernelspec": {
   "display_name": "Python 3",
   "language": "python",
   "name": "python3"
  },
  "language_info": {
   "codemirror_mode": {
    "name": "ipython",
    "version": 3
   },
   "file_extension": ".py",
   "mimetype": "text/x-python",
   "name": "python",
   "nbconvert_exporter": "python",
   "pygments_lexer": "ipython3",
   "version": "3.6.1"
  }
 },
 "nbformat": 4,
 "nbformat_minor": 2
}
