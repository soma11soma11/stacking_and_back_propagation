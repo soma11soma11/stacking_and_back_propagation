{
 "cells": [
  {
   "cell_type": "markdown",
   "metadata": {},
   "source": [
    "# Stacking and back propagation on Mnist"
   ]
  },
  {
   "cell_type": "markdown",
   "metadata": {},
   "source": [
    "### import data"
   ]
  },
  {
   "cell_type": "code",
   "execution_count": 27,
   "metadata": {
    "collapsed": true
   },
   "outputs": [],
   "source": [
    "from sklearn.datasets import fetch_mldata\n",
    "import tensorflow as tf\n",
    "import numpy as np\n",
    "from sklearn.utils import shuffle\n",
    "mnist = fetch_mldata('MNIST original', data_home=\".\")\n",
    "mnist.data, mnist.target = shuffle(mnist.data, mnist.target)\n",
    "X = mnist.data[0:5000]\n",
    "s = np.ones(X.shape[0])\n",
    "# X_1 = np.hstack((X, s.reshape(len(s),1)))\n",
    "y_float = mnist.target\n",
    "y_int = y_float.astype(np.int64)\n",
    "y = np.eye(10)[y_int][0:5000]"
   ]
  },
  {
   "cell_type": "code",
   "execution_count": 28,
   "metadata": {},
   "outputs": [],
   "source": [
    "new_X = np.cbrt(X)"
   ]
  },
  {
   "cell_type": "markdown",
   "metadata": {},
   "source": [
    "### define function"
   ]
  },
  {
   "cell_type": "code",
   "execution_count": 29,
   "metadata": {
    "collapsed": true
   },
   "outputs": [],
   "source": [
    "def linear_output_z1(x, w1):\n",
    "    z1 = np.dot(x, w1)\n",
    "    return z1\n",
    "\n",
    "def logistic_output_z2(x, w2):\n",
    "    z2 = softmax(np.dot(x, w2))\n",
    "    return z2\n",
    "\n",
    "def softmax(x):\n",
    "    e_x = np.exp(x - np.max(x))\n",
    "    sumsoft = e_x.sum(axis=1)\n",
    "    bottomsoft = 1 / sumsoft\n",
    "    return np.transpose(np.transpose(e_x) * bottomsoft)"
   ]
  },
  {
   "cell_type": "markdown",
   "metadata": {},
   "source": [
    "### initializtion"
   ]
  },
  {
   "cell_type": "code",
   "execution_count": 24,
   "metadata": {},
   "outputs": [],
   "source": [
    "def Z(x, w1, w2):\n",
    "    z1 = linear_output_z1(x, w1)\n",
    "    z2 = logistic_output_z2(x, w2)\n",
    "    Z = np.c_[x, z1, z2, s]\n",
    "    return Z\n",
    "\n",
    "initial_theta = np.random.uniform(-1,1,(10, X.shape[1]+12))\n",
    "initial_w1 = np.random.uniform(-1,1, X.shape[1])\n",
    "initial_w2 = np.random.uniform(-1,1,(X.shape[1], 10))"
   ]
  },
  {
   "cell_type": "markdown",
   "metadata": {},
   "source": [
    "### define gradient"
   ]
  },
  {
   "cell_type": "code",
   "execution_count": 46,
   "metadata": {
    "scrolled": true
   },
   "outputs": [],
   "source": [
    "def gradient_c_theta(z,theta,y):\n",
    "    sof = softmax(np.dot(theta, np.transpose(z)))\n",
    "    gradient = []\n",
    "#     for i in range(10):\n",
    "#         gradient_elem = np.matmul(np.transpose(z), (y[:,i] - np.dot(y, sof)))\n",
    "#         gradient.append(gradient_elem)\n",
    "\n",
    "    return sof"
   ]
  },
  {
   "cell_type": "code",
   "execution_count": 53,
   "metadata": {},
   "outputs": [
    {
     "data": {
      "text/plain": [
       "array([  9.40916421e-27,   1.46359963e-49,   1.65231774e-64,\n",
       "         2.83838122e-34,   1.13920150e-63,   1.25801939e-68,\n",
       "         7.63212567e-46,   2.33670918e-53,   3.61602490e-30,\n",
       "         7.04698704e-96])"
      ]
     },
     "execution_count": 53,
     "metadata": {},
     "output_type": "execute_result"
    }
   ],
   "source": [
    "gradient_c_theta(Z(new_X, initial_w1, initial_w2), initial_theta, y)[:,0]"
   ]
  },
  {
   "cell_type": "markdown",
   "metadata": {},
   "source": [
    "### gradient descent"
   ]
  },
  {
   "cell_type": "code",
   "execution_count": null,
   "metadata": {
    "collapsed": true
   },
   "outputs": [],
   "source": [
    "def gradient_descent(x, y, int_w1, int_w2, int_b1, int_b2, int_theta0, int_theta1, int_theta2, int_theta3, lowtrain, uptrain, iterations):\n",
    "    z1 = linear_output_z1(x, place_w1, place_b1)\n",
    "    z2 = logistic_output_z2(x, place_w2, place_b2)\n",
    "    Z = np.c_[X, z1, z2, s]\n",
    "    zf = softmax(logistic_output(Z, theta))\n",
    "    gradient_theta = gradient_c_theta(Z, zf, y)\n",
    "    "
   ]
  },
  {
   "cell_type": "code",
   "execution_count": null,
   "metadata": {},
   "outputs": [],
   "source": [
    "np.kron(2, 4)"
   ]
  },
  {
   "cell_type": "code",
   "execution_count": 45,
   "metadata": {},
   "outputs": [
    {
     "data": {
      "text/plain": [
       "(10, 796)"
      ]
     },
     "execution_count": 45,
     "metadata": {},
     "output_type": "execute_result"
    }
   ],
   "source": [
    "initial_theta.shape"
   ]
  },
  {
   "cell_type": "code",
   "execution_count": null,
   "metadata": {
    "collapsed": true
   },
   "outputs": [],
   "source": []
  }
 ],
 "metadata": {
  "kernelspec": {
   "display_name": "Python 3",
   "language": "python",
   "name": "python3"
  },
  "language_info": {
   "codemirror_mode": {
    "name": "ipython",
    "version": 3
   },
   "file_extension": ".py",
   "mimetype": "text/x-python",
   "name": "python",
   "nbconvert_exporter": "python",
   "pygments_lexer": "ipython3",
   "version": "3.6.1"
  }
 },
 "nbformat": 4,
 "nbformat_minor": 2
}
